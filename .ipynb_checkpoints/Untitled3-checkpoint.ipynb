{
 "cells": [
  {
   "cell_type": "code",
   "execution_count": 18,
   "metadata": {
    "collapsed": true
   },
   "outputs": [],
   "source": [
    "# %load HC(SLINK）.py\n",
    "'''\n",
    "Created on the 12th, Sep, 2017\n",
    "\n",
    "@author : HAO Zhaojun\n",
    "'''\n",
    "from math import *\n",
    "\n",
    "\n",
    "# definition of distance between numeric data points \n",
    "# input   : two points a and b,\n",
    "#           distance used among 'euclidean' 'squared' 'manhattan' and 'max'\n",
    "# output  : distance between two numeric points\n",
    "def norm(a,b, metric = 'euclidean'):\n",
    "\ttry :\n",
    "\t\tif(len(a) != len(b)):\n",
    "\t\t\traise ValueError(\"two vectors are not of the same dimension\")\n",
    "\t\t\texit()\n",
    "\t\tk =0\n",
    "\t\tfor i in range(len(a)):\n",
    "\t\t\tif(metric == 'euclidean' or 'squared'):\n",
    "\t\t\t\tk+= (a[i] - b[i])**2\n",
    "\t\t\t\t#print('eucliean',k)\n",
    "\t\t\tif(metric =='manhattan'):\n",
    "\t\t\t\tk+= abs(a[i]-b[i])\n",
    "\t\t\t\t#print('manhattan',k)\n",
    "\t\t\tif(metric== 'max'):\n",
    "\t\t\t\tk =max(k, abs(a[i]-b[i]))\n",
    "\t\t\t\t#print('max',k)\n",
    "\t\tif(metric == 'euclidean'):\n",
    "\t\t\tk = sqrt(k)\n",
    "\t\treturn(k)\n",
    "\texcept TypeError:\n",
    "\t\tprint(\"Not all data points are numeric\")\n",
    "\t\t\n",
    "\t\t\n",
    "# function to execute SLINK algo\n",
    "# input    : dataset who is a list of data points in form of list,\n",
    "#\t\t\t dimension of data points\n",
    "# output   : pointer representations of dendrograms Pi and Lambda\n",
    "def SLINK(Dataset, d):\n",
    "\tn = len(Dataset)\n",
    "\t# All the data points are labelled as 1, 2, ..., n\n",
    "\t# A(i) is Lambda, noting the lowest level at which i is no longer the last point in his cluster  \n",
    "\t# B(i) is the last point in the cluster which i then joins\n",
    "\tA = [n+1 for i  in range(n)]\n",
    "\tB = [n*2 for i in range(n)]\n",
    "\t\n",
    "\t#initialisation\n",
    "\tA[0] = 1\n",
    "\tB[0] = 10000\n",
    "\t\n",
    "\tfor k in range(1,n):\n",
    "\t\tB[k] = k\n",
    "\t\tA[k] = 10000\n",
    "\t\tM = [0 for i in range(k+1)]\n",
    "\t\tfor i in range(k):\n",
    "\t\t\tM[i] = norm(Dataset[i],Dataset[k])\n",
    "\t\t\t\n",
    "\t\tfor i in range(k):\n",
    "\t\t\tif(A[i]>= M[i]):\n",
    "\t\t\t\tM[B[i]] = min(M[B[i]], A[i])\n",
    "\t\t\t\tA[i] = M[i]\n",
    "\t\t\t\tB[i] = k\n",
    "\t\t\tif(A[i] < M[i]):\n",
    "\t\t\t\tM[B[i]] = min(M[B[i]], M[i])\n",
    "\t\tfor i in range(k):\n",
    "\t\t\tif(A[i] >= A[B[i]]):\n",
    "\t\t\t\tB[i] = k \n",
    "\treturn(A,B)"
   ]
  },
  {
   "cell_type": "code",
   "execution_count": 23,
   "metadata": {
    "collapsed": false
   },
   "outputs": [
    {
     "name": "stdout",
     "output_type": "stream",
     "text": [
      "([1.0, 1.0, 1.0, 1.4142135623730951, 0.5, 1, 1.118033988749895, 10000], [7, 7, 7, 7, 5, 7, 7, 7])\n"
     ]
    }
   ],
   "source": [
    "e =[2,2]\n",
    "b =[1,2]\n",
    "c =[1,1]\n",
    "d =[0,0]\n",
    "a = [3,3]\n",
    "f =[2.5,2]\n",
    "Dataset = [a,b,c,d,e,f]\n",
    "Dataset.append([1.5,0])\n",
    "Dataset.append([3,4])\n",
    "res = SLINK(Dataset,2)\n",
    "print(res)"
   ]
  },
  {
   "cell_type": "code",
   "execution_count": null,
   "metadata": {
    "collapsed": true
   },
   "outputs": [],
   "source": []
  }
 ],
 "metadata": {
  "kernelspec": {
   "display_name": "Python 3",
   "language": "python",
   "name": "python3"
  },
  "language_info": {
   "codemirror_mode": {
    "name": "ipython",
    "version": 3
   },
   "file_extension": ".py",
   "mimetype": "text/x-python",
   "name": "python",
   "nbconvert_exporter": "python",
   "pygments_lexer": "ipython3",
   "version": "3.4.4"
  }
 },
 "nbformat": 4,
 "nbformat_minor": 2
}
