{
 "cells": [
  {
   "cell_type": "code",
   "execution_count": 39,
   "metadata": {
    "collapsed": false
   },
   "outputs": [],
   "source": [
    "# %load HC(SLINK）.py\n",
    "'''\n",
    "Created on the 12th, Sep, 2017\n",
    "\n",
    "@author : HAO Zhaojun\n",
    "'''\n",
    "from math import *\n",
    "\n",
    "\n",
    "# definition of distance between numeric data points \n",
    "# input   : two points a and b,\n",
    "#           distance used among 'euclidean' 'squared' 'manhattan' and 'max'\n",
    "# output  : distance between two numeric points\n",
    "def norm(a,b,metric = 'euclidean'):\n",
    "\ttry :\n",
    "\t\tif(len(a) != len(b)):\n",
    "\t\t\traise ValueError(\"two vectors are not of the same dimension\")\n",
    "\t\t\texit()\n",
    "\t\tk =0\n",
    "\t\tfor i in range(len(a)):\n",
    "\t\t\tif(metric == 'euclidean' or 'squared'):\n",
    "\t\t\t\tk+= (a[i] - b[i])**2\n",
    "\t\t\t\tprint('haha',k)\n",
    "\t\t\tif(metric =='manhattan'):\n",
    "\t\t\t\tk+= abs(a[i]-b[i])\n",
    "\t\t\t\tprint('manhattan',k)\n",
    "\t\t\tif(metric== 'max'):\n",
    "\t\t\t\tk =max(k, abs(a[i]-b[i]))\n",
    "\t\t\t\tprint('max',k)\n",
    "\t\t\tprint(k)\n",
    "\t\tif(metric == 'euclidean'):\n",
    "\t\t\tk = sqrt(k)\n",
    "\t\treturn(k)\n",
    "\texcept TypeError:\n",
    "\t\tprint(\"Not all data points are numeric\")"
   ]
  },
  {
   "cell_type": "code",
   "execution_count": 43,
   "metadata": {
    "collapsed": false
   },
   "outputs": [
    {
     "name": "stdout",
     "output_type": "stream",
     "text": [
      "haha 1\n",
      "max 1\n",
      "1\n",
      "haha 2\n",
      "max 2\n",
      "2\n",
      "haha 3\n",
      "max 3\n",
      "3\n"
     ]
    },
    {
     "data": {
      "text/plain": [
       "3"
      ]
     },
     "execution_count": 43,
     "metadata": {},
     "output_type": "execute_result"
    }
   ],
   "source": [
    "a = [1,2,3]\n",
    "b=[2,3,4]\n",
    "c= [a,1,3]\n",
    "d1=[2,3,4,5]\n",
    "\n",
    "d(a,b,'max')"
   ]
  },
  {
   "cell_type": "code",
   "execution_count": 79,
   "metadata": {
    "collapsed": false
   },
   "outputs": [],
   "source": [
    "# %load HC(SLINK）.py\n",
    "'''\n",
    "Created on the 12th, Sep, 2017\n",
    "\n",
    "@author : HAO Zhaojun\n",
    "'''\n",
    "from math import *\n",
    "\n",
    "\n",
    "# definition of distance between numeric data points \n",
    "# input   : two points a and b,\n",
    "#           distance used among 'euclidean' 'squared' 'manhattan' and 'max'\n",
    "# output  : distance between two numeric points\n",
    "def norm(a,b, metric = 'euclidean'):\n",
    "\ttry :\n",
    "\t\tif(len(a) != len(b)):\n",
    "\t\t\traise ValueError(\"two vectors are not of the same dimension\")\n",
    "\t\t\texit()\n",
    "\t\tk =0\n",
    "\t\tfor i in range(len(a)):\n",
    "\t\t\tif(metric == 'euclidean' or 'squared'):\n",
    "\t\t\t\tk+= (a[i] - b[i])**2\n",
    "\t\t\t\t#print('eucliean',k)\n",
    "\t\t\tif(metric =='manhattan'):\n",
    "\t\t\t\tk+= abs(a[i]-b[i])\n",
    "\t\t\t\t#print('manhattan',k)\n",
    "\t\t\tif(metric== 'max'):\n",
    "\t\t\t\tk =max(k, abs(a[i]-b[i]))\n",
    "\t\t\t\t#print('max',k)\n",
    "\t\t\tprint(k)\n",
    "\t\tif(metric == 'euclidean'):\n",
    "\t\t\tk = sqrt(k)\n",
    "\t\treturn(k)\n",
    "\texcept TypeError:\n",
    "\t\tprint(\"Not all data points are numeric\")\n",
    "\t\t\n",
    "\t\t\n",
    "# function to execute SLINK algo\n",
    "# input    : dataset who is a list of data points in form of list,\n",
    "#\t\t\t dimension of data points\n",
    "# output   : pointer representations of dendrograms Pi and Lambda\n",
    "def SLINK(Dataset, d):\n",
    "\tn = len(Dataset)\n",
    "\t# All the data points are labelled as 1, 2, ..., n\n",
    "\t# A(i) is Lambda, noting the lowest level at which i is no longer the last point in his cluster  \n",
    "\t# B(i) is the last point in the cluster which i then joins\n",
    "\tA = [n+1 for i  in range(n)]\n",
    "\tB = [n*2 for i in range(n)]\n",
    "\t\n",
    "\t#initialisation\n",
    "\tA[0] = 2\n",
    "\tA[2] = 3\n",
    "\tB[0] = 2\n",
    "\tB[2] = 10000\n",
    "\t\n",
    "\tfor k in range(2,n):\n",
    "\t\tB[k] = k\n",
    "\t\tA[k] = 10000\n",
    "\t\tM = [0 for i in range(k)]\n",
    "\t\tfor i in range(k):\n",
    "\t\t\tM[i] = norm(Dataset[i],Dataset[k])\n",
    "\t\t\t\n",
    "\t\tfor i in range(k):\n",
    "\t\t\tif(A[i]>= M[i]):\n",
    "\t\t\t\tprint(i, B[i])\n",
    "\t\t\t\tM[B[i]] = min(M[B[i]], A[i])\n",
    "\t\t\t\tA[i] = M[i]\n",
    "\t\t\t\tB[i] = k\n",
    "\t\t\tif(A[i] < M[i]):\n",
    "\t\t\t\tM[B[i]] = min(M[B[i]], M[i])\n",
    "\t\tfor i in range(k):\n",
    "\t\t\tif(A[i] >= A[B[i]]):\n",
    "\t\t\t\tB[i] = k \n",
    "\treturn(A,B)"
   ]
  },
  {
   "cell_type": "code",
   "execution_count": 80,
   "metadata": {
    "collapsed": false
   },
   "outputs": [
    {
     "name": "stdout",
     "output_type": "stream",
     "text": [
      "1.0\n",
      "2.0\n",
      "0\n",
      "1.4400000000000004\n",
      "0 2\n"
     ]
    },
    {
     "ename": "IndexError",
     "evalue": "list index out of range",
     "output_type": "error",
     "traceback": [
      "\u001b[1;31m---------------------------------------------------------------------------\u001b[0m",
      "\u001b[1;31mIndexError\u001b[0m                                Traceback (most recent call last)",
      "\u001b[1;32m<ipython-input-80-5c4c0aced71d>\u001b[0m in \u001b[0;36m<module>\u001b[1;34m()\u001b[0m\n\u001b[0;32m      8\u001b[0m \u001b[0mDataset\u001b[0m\u001b[1;33m.\u001b[0m\u001b[0mappend\u001b[0m\u001b[1;33m(\u001b[0m\u001b[1;33m[\u001b[0m\u001b[1;36m3\u001b[0m\u001b[1;33m,\u001b[0m\u001b[1;36m4\u001b[0m\u001b[1;33m]\u001b[0m\u001b[1;33m)\u001b[0m\u001b[1;33m\u001b[0m\u001b[0m\n\u001b[0;32m      9\u001b[0m \u001b[1;33m\u001b[0m\u001b[0m\n\u001b[1;32m---> 10\u001b[1;33m \u001b[0mres\u001b[0m \u001b[1;33m=\u001b[0m \u001b[0mSLINK\u001b[0m\u001b[1;33m(\u001b[0m\u001b[0mDataset\u001b[0m\u001b[1;33m,\u001b[0m \u001b[1;36m2\u001b[0m\u001b[1;33m)\u001b[0m\u001b[1;33m\u001b[0m\u001b[0m\n\u001b[0m",
      "\u001b[1;32m<ipython-input-79-cf1c2e5b0095>\u001b[0m in \u001b[0;36mSLINK\u001b[1;34m(Dataset, d)\u001b[0m\n\u001b[0;32m     64\u001b[0m                         \u001b[1;32mif\u001b[0m\u001b[1;33m(\u001b[0m\u001b[0mA\u001b[0m\u001b[1;33m[\u001b[0m\u001b[0mi\u001b[0m\u001b[1;33m]\u001b[0m\u001b[1;33m>=\u001b[0m \u001b[0mM\u001b[0m\u001b[1;33m[\u001b[0m\u001b[0mi\u001b[0m\u001b[1;33m]\u001b[0m\u001b[1;33m)\u001b[0m\u001b[1;33m:\u001b[0m\u001b[1;33m\u001b[0m\u001b[0m\n\u001b[0;32m     65\u001b[0m                                 \u001b[0mprint\u001b[0m\u001b[1;33m(\u001b[0m\u001b[0mi\u001b[0m\u001b[1;33m,\u001b[0m \u001b[0mB\u001b[0m\u001b[1;33m[\u001b[0m\u001b[0mi\u001b[0m\u001b[1;33m]\u001b[0m\u001b[1;33m)\u001b[0m\u001b[1;33m\u001b[0m\u001b[0m\n\u001b[1;32m---> 66\u001b[1;33m                                 \u001b[0mM\u001b[0m\u001b[1;33m[\u001b[0m\u001b[0mB\u001b[0m\u001b[1;33m[\u001b[0m\u001b[0mi\u001b[0m\u001b[1;33m]\u001b[0m\u001b[1;33m]\u001b[0m \u001b[1;33m=\u001b[0m \u001b[0mmin\u001b[0m\u001b[1;33m(\u001b[0m\u001b[0mM\u001b[0m\u001b[1;33m[\u001b[0m\u001b[0mB\u001b[0m\u001b[1;33m[\u001b[0m\u001b[0mi\u001b[0m\u001b[1;33m]\u001b[0m\u001b[1;33m]\u001b[0m\u001b[1;33m,\u001b[0m \u001b[0mA\u001b[0m\u001b[1;33m[\u001b[0m\u001b[0mi\u001b[0m\u001b[1;33m]\u001b[0m\u001b[1;33m)\u001b[0m\u001b[1;33m\u001b[0m\u001b[0m\n\u001b[0m\u001b[0;32m     67\u001b[0m                                 \u001b[0mA\u001b[0m\u001b[1;33m[\u001b[0m\u001b[0mi\u001b[0m\u001b[1;33m]\u001b[0m \u001b[1;33m=\u001b[0m \u001b[0mM\u001b[0m\u001b[1;33m[\u001b[0m\u001b[0mi\u001b[0m\u001b[1;33m]\u001b[0m\u001b[1;33m\u001b[0m\u001b[0m\n\u001b[0;32m     68\u001b[0m                                 \u001b[0mB\u001b[0m\u001b[1;33m[\u001b[0m\u001b[0mi\u001b[0m\u001b[1;33m]\u001b[0m \u001b[1;33m=\u001b[0m \u001b[0mk\u001b[0m\u001b[1;33m\u001b[0m\u001b[0m\n",
      "\u001b[1;31mIndexError\u001b[0m: list index out of range"
     ]
    }
   ],
   "source": [
    "a =[2.0,2]\n",
    "b =[1,2.2]\n",
    "c =[1,1]\n",
    "d1 =[0,0]\n",
    "f =[3,2]\n",
    "Dataset = [a,b,c,d1,f]\n",
    "Dataset.append([1,0])\n",
    "Dataset.append([3,4])\n",
    "\n",
    "res = SLINK(Dataset, 2)"
   ]
  },
  {
   "cell_type": "code",
   "execution_count": 55,
   "metadata": {
    "collapsed": false
   },
   "outputs": [
    {
     "name": "stdout",
     "output_type": "stream",
     "text": [
      "0.010000000000000018\n",
      "0.26\n"
     ]
    },
    {
     "data": {
      "text/plain": [
       "0.5099019513592785"
      ]
     },
     "execution_count": 55,
     "metadata": {},
     "output_type": "execute_result"
    }
   ],
   "source": [
    "d(Dataset[0],[2.1,1.5])"
   ]
  },
  {
   "cell_type": "code",
   "execution_count": 56,
   "metadata": {
    "collapsed": false
   },
   "outputs": [
    {
     "name": "stdout",
     "output_type": "stream",
     "text": [
      "2\n",
      "3\n",
      "4\n"
     ]
    }
   ],
   "source": [
    "for i in range(2,5):\n",
    "    print(i)"
   ]
  },
  {
   "cell_type": "code",
   "execution_count": null,
   "metadata": {
    "collapsed": true
   },
   "outputs": [],
   "source": []
  }
 ],
 "metadata": {
  "kernelspec": {
   "display_name": "Python 3",
   "language": "python",
   "name": "python3"
  },
  "language_info": {
   "codemirror_mode": {
    "name": "ipython",
    "version": 3
   },
   "file_extension": ".py",
   "mimetype": "text/x-python",
   "name": "python",
   "nbconvert_exporter": "python",
   "pygments_lexer": "ipython3",
   "version": "3.4.4"
  }
 },
 "nbformat": 4,
 "nbformat_minor": 2
}
