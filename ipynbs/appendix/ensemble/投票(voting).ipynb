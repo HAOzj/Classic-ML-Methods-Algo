{
 "cells": [
  {
   "cell_type": "markdown",
   "metadata": {},
   "source": [
    "# 投票\n",
    "\n",
    "投票是最简单最基本的集成方式,简单来说就是每个分类器投票决定结果.\n",
    "\n",
    "按照投票的方式分为:\n",
    "- 多数投票,得票最多的结果超过总数的一定比例则该结果为最终结果\n",
    "- 平均投票,得票最多的结果为最终结果\n",
    "- 加权投票,不同分类器的票有不同的权重,加权得票最多的结果为最终结果.类似于\n",
    "\n",
    "## ***使用sklearn做投票***\n",
    "\n",
    "sklearn提供了用于投票的接口`sklearn.ensemble.VotingClassifier`.[传送门](https://scikit-learn.org/stable/modules/generated/sklearn.ensemble.VotingClassifier.html)"
   ]
  }
 ],
 "metadata": {
  "kernelspec": {
   "display_name": "Python 3",
   "language": "python",
   "name": "python3"
  },
  "language_info": {
   "codemirror_mode": {
    "name": "ipython",
    "version": 3
   },
   "file_extension": ".py",
   "mimetype": "text/x-python",
   "name": "python",
   "nbconvert_exporter": "python",
   "pygments_lexer": "ipython3",
   "version": "3.7.3"
  }
 },
 "nbformat": 4,
 "nbformat_minor": 2
}
