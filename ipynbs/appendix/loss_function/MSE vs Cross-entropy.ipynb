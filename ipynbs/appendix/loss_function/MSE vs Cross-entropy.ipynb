{
 "cells": [
  {
   "cell_type": "markdown",
   "metadata": {},
   "source": [
    "分类模型的损失函数有很多种,比如\n",
    "- svm的hinge loss\n",
    "- 逻辑回归的logit loss\n",
    "- MSE\n",
    "- 多分类时的交叉熵"
   ]
  },
  {
   "cell_type": "markdown",
   "metadata": {},
   "source": [
    "# 多分类模型的设定\n",
    "\n",
    "多分类模型下,一共有K个类,真实概率分布为$(y_1, y_2, ..., y_K)$,预测概率分布为$(\\hat{y}_1, \\hat{y}_2, ..., \\hat{y}_K) $.样本量为N."
   ]
  },
  {
   "cell_type": "markdown",
   "metadata": {},
   "source": [
    "# 均方损失/MSE (Mean Square Error)\n",
    "基于MSE的损失函数为  \n",
    "$$L = \\frac{1}{N} \\sum \\limits_{i=1}^{N} ||y^i - \\hat{y}^i ||_2^2  $$\n",
    "其中$y^i和\\hat{y}^i$分别是第i个样例的真实值和预测值,可以是向量. $|| a - b ||_2^2$表示a和b的[L2距离或欧几里得距离](https://en.wikipedia.org/wiki/Euclidean_distance).\n",
    "\n",
    "多分类模型下损失函数则为\n",
    "$$L = \\frac{1}{N} \\sum \\limits_{i=1}^{N} \\sum \\limits_{k=1}^K  (y_k^i - \\hat{y}_k^i)^2  $$"
   ]
  },
  {
   "cell_type": "markdown",
   "metadata": {},
   "source": [
    "\n",
    "# 交叉熵方法 (Cross-entropy method)\n",
    "交叉熵方法基于信息论中[交叉熵](https://en.wikipedia.org/w/index.php?title=Cross_entropy&oldid=491011306)的概念,反映预测概率分布和真实概率分布的差别.  \n",
    "\n",
    "多分类模型下,基于交叉熵的损失函数为\n",
    "$$ L = \\frac{1}{N} \\sum \\limits_{i=1}^{N} \\sum \\limits_{k=1}^{K} \\hat{y}_k^i * log \\hat{y}_k^i $$\n",
    "\n",
    "往往每个样例的真实概率分布为one-hot型,也就是说每个样例都属于某类.所以上式等于\n",
    "$$ \\frac{1}{N} \\sum \\limits_{i=1}^{N} log \\hat{y}_{k_i}^i $$\n",
    "其中$k_i$为第i个样例的类别.  \n",
    "在二分类模型中,不妨说类别是1和0, 也就是$y \\in \\{1, 0\\}$.一般来说,模型的预测值是样例为1类的预测概率.这样当$y_i=1时, q_i^{k_i} = log \\hat{y}_i;当y_i=0时,q_i^{k_i} = log (1-\\hat{y}_i)$.不论$y_i$是0还是1, $q_i^{k_i} = y_i*log\\hat{y}_i + (1-y_i) * log (1-\\hat{y_i})$\n",
    "上式就等于\n",
    "$$  \\frac{1}{N} \\sum \\limits_{i=1}^{N} y_i*log\\hat{y}_i + (1-y_i) * log (1-\\hat{y_i})$$"
   ]
  },
  {
   "cell_type": "code",
   "execution_count": null,
   "metadata": {},
   "outputs": [],
   "source": []
  }
 ],
 "metadata": {
  "kernelspec": {
   "display_name": "Python 3",
   "language": "python",
   "name": "python3"
  },
  "language_info": {
   "codemirror_mode": {
    "name": "ipython",
    "version": 3
   },
   "file_extension": ".py",
   "mimetype": "text/x-python",
   "name": "python",
   "nbconvert_exporter": "python",
   "pygments_lexer": "ipython3",
   "version": "3.7.3"
  }
 },
 "nbformat": 4,
 "nbformat_minor": 2
}
