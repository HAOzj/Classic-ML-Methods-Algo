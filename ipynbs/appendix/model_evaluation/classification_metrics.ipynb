{
 "cells": [
  {
   "cell_type": "markdown",
   "metadata": {},
   "source": [
    "# 评估分类模型\n",
    "\n",
    "分类模型相对是比较好评估的,一般来说我们在训练时会将训练数据分为`训练集,验证集和测试集`三份或者`训练集,验证集`两份当模型训练出来的时候我们可以拿测试集或者没有的话用验证集来作为评估的目标.先定义几个参数:\n",
    "\n",
    "+ 预测为A且实际为A的 叫做 tp\n",
    "+ 预测为A且实际为!A的 叫做 fp\n",
    "+ 预测为!A且实际为A的 叫做 fn\n",
    "+ 预测为!A且实际为!A的 叫做tn"
   ]
  },
  {
   "cell_type": "markdown",
   "metadata": {},
   "source": [
    "### 准确度(accuracy)\n",
    "\n",
    "指在一定实验条件下多次测定的平均值与真值相符合的程度,以误差来表示.它用来表示系统误差的大小.其分子为预测对的数量,分母为全部预测数据数量\n",
    "\n",
    "$$ accuracy=\\frac {tp+tn}{tp+fp+tn+fn} $$"
   ]
  },
  {
   "cell_type": "markdown",
   "metadata": {},
   "source": [
    "### 精确率(precision)\n",
    "\n",
    "$$ precision = \\frac {tp}{tp+fp}$$\n",
    "\n",
    "准确率描述预测为A的准确情况"
   ]
  },
  {
   "cell_type": "markdown",
   "metadata": {},
   "source": [
    "### 召回率(recall)\n",
    "\n",
    "\n",
    "也叫敏感性指标(sensitivity)\n",
    "\n",
    "$$ recall = \\frac {tp}{tp+fn} $$\n",
    "\n",
    "召回率描述实际是A的被预测准确率"
   ]
  },
  {
   "cell_type": "markdown",
   "metadata": {},
   "source": [
    "### 特异性指标(Specificity)\n",
    "\n",
    "$$ Specificity=\\frac{tn}{fp+tn} $$"
   ]
  },
  {
   "cell_type": "markdown",
   "metadata": {},
   "source": [
    "### 负正类率(false positive rate, FPR)\n",
    "\n",
    "$$ FPR=\\frac {fp}{fp+tn}$$"
   ]
  },
  {
   "cell_type": "markdown",
   "metadata": {},
   "source": [
    "### f1_score\n",
    "\n",
    "精确率和召回率都不能完全描述一个模型的准确程度.f1则是用于组合这两个数据以获取一个评价标准/\n",
    "\n",
    "\n",
    "$$ f1 = 2 * \\frac {precision * recall}{precision + recall} $$"
   ]
  },
  {
   "cell_type": "markdown",
   "metadata": {},
   "source": [
    "### 混淆矩阵(confusion matrix)\n",
    "\n",
    "混淆矩阵是更加细致的一个模型效果评估工具,它的纵轴为真实标签,横轴为预测标签,其中的数字则是命中的个数.通过这个可以比较清洗的看出模型预测的偏向性,以此可以作为模型调整的依据."
   ]
  }
 ],
 "metadata": {
  "kernelspec": {
   "display_name": "Python 3",
   "language": "python",
   "name": "python3"
  },
  "language_info": {
   "codemirror_mode": {
    "name": "ipython",
    "version": 3
   },
   "file_extension": ".py",
   "mimetype": "text/x-python",
   "name": "python",
   "nbconvert_exporter": "python",
   "pygments_lexer": "ipython3",
   "version": "3.6.0"
  }
 },
 "nbformat": 4,
 "nbformat_minor": 2
}
