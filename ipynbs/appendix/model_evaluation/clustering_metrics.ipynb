{
 "cells": [
  {
   "cell_type": "markdown",
   "metadata": {},
   "source": [
    "# 聚类的评估指标\n",
    "\n",
    "聚类的评估不像分类那么容易,我们训练的时候只知道特征没有标签,那自然评估的时候和标签会对不上.下面是几种常见的聚类性能评估方式"
   ]
  },
  {
   "cell_type": "markdown",
   "metadata": {},
   "source": [
    "## Adjusted Rand  Index 指数\n",
    "\n",
    "\n",
    "\n",
    "$$ \\text{RI} = \\frac{a + b}{C_2^{n_{samples}}} $$\n",
    "\n",
    "\n",
    "其中 $C_2^{n_{samples}}$ 是数据集中可能的数据对(pairs)的总数(不排序).\n",
    "\n",
    "然而,RI评分不能保证随机标签任务(random label assignments)将获得接近零的值(特别是如果簇的数量与采样数量相同的数量级).\n",
    "\n",
    "\n",
    "为了抵消这种影响,我们可以通过定义`adjusted Rand index`(调整后的Rand index)来折现(discount)随机标签的预期$RI E[\\text{RI}]$ ,如下所示:\n",
    "\n",
    "$$ \\text{ARI} = \\frac{\\text{RI} - E[\\text{RI}]}{\\max(\\text{RI}) - E[\\text{RI}]}$$\n",
    "\n",
    "`adjusted rand score`是对称的(symmetric)-- 交换参数不会改变得分.它可以作为共识度量(consensus measure),\n",
    "\n",
    "完美的标签得分为 1.0,而负数或者得分接近0说明效果不佳."
   ]
  },
  {
   "cell_type": "code",
   "execution_count": null,
   "metadata": {
    "collapsed": true
   },
   "outputs": [],
   "source": []
  }
 ],
 "metadata": {
  "kernelspec": {
   "display_name": "Python 3",
   "language": "python",
   "name": "python3"
  },
  "language_info": {
   "codemirror_mode": {
    "name": "ipython",
    "version": 3
   },
   "file_extension": ".py",
   "mimetype": "text/x-python",
   "name": "python",
   "nbconvert_exporter": "python",
   "pygments_lexer": "ipython3",
   "version": "3.6.0"
  }
 },
 "nbformat": 4,
 "nbformat_minor": 2
}
