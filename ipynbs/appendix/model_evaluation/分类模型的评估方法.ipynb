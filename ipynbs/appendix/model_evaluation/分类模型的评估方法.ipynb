{
 "cells": [
  {
   "cell_type": "markdown",
   "metadata": {},
   "source": [
    "# 评估分类模型\n",
    "\n",
    "分类模型相对是比较好评估的,一般来说我们在训练时会将训练数据分为`训练集,验证集和测试集`三份或者`训练集,测试集`两份.当模型训练完成,基于模型在测试集上的预测结果和真实结果,计算一些指标来评估模型的泛化能力.这些指标主要包括accuracy, precision,recall,F1,auc.  \n",
    "在介绍指标之前,不妨假设这是二分类问题,类别有正/负两种(或者1/0两种),先给出以下四种定义,用来划分测试集:\n",
    "\n",
    "+ 预测为正且实际为正的 叫做TP(True Positive).\n",
    "+ 预测为正且实际为负的 叫做FP(False Positive).\n",
    "+ 预测为负且实际为正的 叫做FN(False Negative).\n",
    "+ 预测为负且实际为负的 叫做TN(True Negative).\n",
    "\n",
    "测试集中的样本一定会符合以上四种定义之一.\n",
    "\n",
    "\n",
    "\n",
    "|  横轴预测,纵轴真值 | 预测为正 | 预测为负 | 不论预测|\n",
    "| :----- | :----- | :----- | -----|\n",
    "| 实际为正|  TP | FN | P |\n",
    "| 实际为负   | FP  | TN | N |\n",
    "\n",
    "如果没有特殊说明,这六种符号均表示符合对应定义的样本的数量."
   ]
  },
  {
   "cell_type": "markdown",
   "metadata": {},
   "source": [
    "### 准确度(accuracy)\n",
    "\n",
    "准确度反映的是预测值与真值一致的程度.其分子为预测对的样本的数量,分母为测试集总的样本数量.\n",
    "\n",
    "$$ Accurcy =\\frac{TP + TN}{TP + FP + TN + FN} $$"
   ]
  },
  {
   "cell_type": "markdown",
   "metadata": {},
   "source": [
    "### 精确度(precision)\n",
    "\n",
    "$$ precision = \\frac {TP}{TP+FP}$$\n",
    "\n",
    "准确度是预测为正的样本中真值为正的百分比."
   ]
  },
  {
   "cell_type": "markdown",
   "metadata": {},
   "source": [
    "### 召回率(recall)\n",
    "\n",
    "$$ recall = \\frac {TP}{TP+FN} $$\n",
    "\n",
    "召回率描述的是真值为正的样本中被预测为正的比例.也叫TPR(True Positive Rate)."
   ]
  },
  {
   "cell_type": "markdown",
   "metadata": {},
   "source": [
    "### F1_score\n",
    "\n",
    "我们不妨想象,一个分类器把所有样本都预测为正,则召回率很高;如果它只把样本中最有可能为正的一个预测为正,其他都为负,则准确度很高.所以精确度和召回率都不能独自完全描述一个模型的准确程度.而F1是准确度和召回率的调和平均,是综合准确度和召回率的一种指标.\n",
    "\n",
    "\n",
    "$$ F1 = \\frac{1}{\\frac{\\frac{1}{precision} + \\frac{1}{recall}}{2}} = 2 * \\frac {precision * recall}{precision + recall} $$"
   ]
  },
  {
   "cell_type": "markdown",
   "metadata": {},
   "source": [
    "### 混淆矩阵(confusion matrix)\n",
    "\n",
    "混淆矩阵是更加细致的一个模型效果评估工具,它的纵轴为真实标签,横轴为预测标签,其中的数字则是命中的个数.通过这个可以比较清晰地看出模型预测的偏向性,以此可以作为模型调整的依据.\n",
    "\n",
    "比如我们有如下的混淆矩阵,就可以看出把真值非1的样本预测为1的比率很高,背后原因可能是因为训练集中1类的样本很多.\n",
    "\n",
    "|  横轴预测,纵轴真值 | 预测为1 | 预测为2 | 预测为3 |\n",
    "| :----- | :----- | :----- | -----|\n",
    "| 实际为1 |   5 | 2 | 0 |\n",
    "| 实际为2   | 5  | 3 | 0 |\n",
    "| 实际为3 | 10 | 0 | 2|"
   ]
  },
  {
   "cell_type": "markdown",
   "metadata": {},
   "source": [
    "### AUC(Area Under Curve)\n",
    "除了precision, recall, F1等基于样例的评价指标,还有AUC(Area Under Curve)这种关于样本总体顺序的指标.   \n",
    "AUC是ROC曲线和y=0直线和x=1直线围的面积,换句话说就是ROC曲线下的面积.  \n",
    "\n",
    "### ROC(Receiver Operating Characteristic curve)\n",
    "\n",
    "\n",
    "### 负正类率(False Positive Rate, FPR)\n",
    "$$ FPR=\\frac{FP}{N} = \\frac {FP}{FP+TN}$$"
   ]
  },
  {
   "cell_type": "markdown",
   "metadata": {},
   "source": [
    "## ***使用sklearn做模型评估***\n",
    "\n",
    "除了上面的这些指标,sklearn还提供了一些其他接口来做分类模型的评估\n",
    "\n",
    "接口|说明\n",
    "---|---\n",
    "`metrics.accuracy_score(y_true, y_pred[, …])`|\t模型准确度(Accuracy)\n",
    "`metrics.auc(x, y[, reorder])`|使用梯形法则计算曲线下面积(AUC)\n",
    "`metrics.average_precision_score(y_true, y_score)`|计算平均精确率(AP)\n",
    "`metrics.brier_score_loss(y_true, y_prob[, …])`|计算Brier得分\n",
    "`metrics.classification_report(y_true, y_pred)`|构建主要分类指标的文本报告\n",
    "`metrics.cohen_kappa_score(y1, y2[, labels, …])`|Cohen's kappa: 一个衡量内部注释者协议的统计量\n",
    "`metrics.confusion_matrix(y_true, y_pred[, …])`|计算混淆矩阵来评估分类的准确性\n",
    "`metrics.f1_score(y_true, y_pred[, labels, …])`|计算F1得分\n",
    "`metrics.fbeta_score(y_true, y_pred, beta[, …])`|计算F-beta得分\n",
    "`metrics.hamming_loss(y_true, y_pred[, …])`|计算平均海明损失\n",
    "`metrics.hinge_loss(y_true, pred_decision[, …])`|计算平均hinge损失\n",
    "`metrics.jaccard_similarity_score(y_true, y_pred)`|Jaccard相似系数评分\n",
    "`metrics.log_loss(y_true, y_pred[, eps, …])`|对数损失,又名逻辑损失或交叉熵损失\n",
    "`metrics.matthews_corrcoef(y_true, y_pred[, …])`|计算马修斯相关系数(MCC)\n",
    "`metrics.precision_recall_curve(y_true, …)`|针对不同的概率阈值计算精度(precision),召回率对\n",
    "`metrics.precision_recall_fscore_support(…)`|计算精度，召回率，f1,support对\n",
    "`metrics.precision_score(y_true, y_pred[, …])`|计算精度\n",
    "`metrics.recall_score(y_true, y_pred[, …])`|计算召回\n",
    "`metrics.roc_auc_score(y_true, y_score[, …])`|计算特征曲线（ROC AUC）下预测分数的计算区域\n",
    "`metrics.roc_curve(y_true, y_score[, …])`|计算ROC\n",
    "`metrics.zero_one_loss(y_true, y_pred[, …])`|0-1分类器损失"
   ]
  }
 ],
 "metadata": {
  "kernelspec": {
   "display_name": "Python 3",
   "language": "python",
   "name": "python3"
  },
  "language_info": {
   "codemirror_mode": {
    "name": "ipython",
    "version": 3
   },
   "file_extension": ".py",
   "mimetype": "text/x-python",
   "name": "python",
   "nbconvert_exporter": "python",
   "pygments_lexer": "ipython3",
   "version": "3.7.3"
  }
 },
 "nbformat": 4,
 "nbformat_minor": 2
}
