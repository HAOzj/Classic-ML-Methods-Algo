{
 "cells": [
  {
   "cell_type": "markdown",
   "metadata": {},
   "source": [
    "在机器学习中,经常存在定类型(nominal/qualitative)的变量.\n",
    "比如,一个人可能有 [\"male\", \"female\"],[\"from Europe\", \"from US\", \"from Asia\"]等定类型的特征.这些特征能够被有效地编码成整数,比如[\"male\", \"from US\"]可以被表示为[0, 1],[\"female\", \"from Asia\"]表示为[1, 2].\n",
    "\n",
    "这个整数特征表示并不能直接作为特征在机器学习中使用,因为这样的连续输入,模型会认为类别之间是定距型(scala),但实际上既是无序的更是无距的.\n",
    "\n",
    "假设一个定类型数据有K种可能取值,将其转换为能够被机器学习模型使用的编码有\n",
    "\n",
    "- 独热编码(one-hot encoding), 在OneHotEncoder中实现.每个类别被转化为一个K维向量,每维对应一种取值.每种类别转化为该类对应的维度为1,其他维度为0的K维向量.\n",
    "- 虚拟编码(dummy coding/reference cell coding), 选出一种可能取值作为参照取值(叫做参照类).每个类别被转化为一个K-1维向量,每个维度对应除了参照类之外的一种取值.每种非参照类类别转化为该类对应的维度为1,其他维度为0的K-1维向量.参照类转化为K-1维零向量.\n",
    "- 效应编码(effect coding),和虚拟编码一样选出一个参照类,除了参照类的取值编码方式一样,只是参照类转化为K-1维全是-1的向量."
   ]
  },
  {
   "cell_type": "markdown",
   "metadata": {},
   "source": [
    "使用不同分类变量编码时类别作为特征时的线性回归¶\n",
    "\n",
    "|编码方式\t| 截距 |\ti类系数 | i类编码,共K类 |\t编码维度 |\n",
    "|------ | -------| -------| -------- |   --------| \n",
    "| dummy code |  参照类均值 | i类的均值 - 参照类均值 | 若不是参照类,i-dim为1,其他为0;否则全为 0 | K-1 |\n",
    "| effect | 总体均值 | i类均值 - 总体均值 | 若不是参照类,i-dim为1,其他为0;否则全部为-1 |   K-1|\n",
    "| one-hot | 总体均值 + c | i类均值-总体均值 - c| i-dim为1,其他为0 | K |\n",
    "\n",
    "总体均值指的是所有类均值的均值, c为任意常数\n"
   ]
  },
  {
   "cell_type": "markdown",
   "metadata": {},
   "source": [
    "N.B.: 在线性回归中,如果不设定截距为空,则one-hot编码会引起某些参数的singularity,因为one-hot编码下,K维向量的和恒为1,引发perfect multicollinearity."
   ]
  },
  {
   "cell_type": "markdown",
   "metadata": {},
   "source": [
    "one-hot encoding, multi-hot的实现可以参看 [sklearn.preprocessing中OneHotEncoder,LabelBinarizer, MultiLabelBinarizer和LabelEncoder](https://scikit-learn.org/stable/modules/classes.html#module-sklearn.preprocessing)  \n",
    "\n",
    "dummy coding的实现可以参看[pandas.get_dummies](https://pandas.pydata.org/pandas-docs/stable/reference/api/pandas.get_dummies.html)."
   ]
  },
  {
   "cell_type": "code",
   "execution_count": null,
   "metadata": {},
   "outputs": [],
   "source": []
  }
 ],
 "metadata": {
  "kernelspec": {
   "display_name": "Python 3",
   "language": "python",
   "name": "python3"
  },
  "language_info": {
   "codemirror_mode": {
    "name": "ipython",
    "version": 3
   },
   "file_extension": ".py",
   "mimetype": "text/x-python",
   "name": "python",
   "nbconvert_exporter": "python",
   "pygments_lexer": "ipython3",
   "version": "3.7.2"
  }
 },
 "nbformat": 4,
 "nbformat_minor": 2
}
