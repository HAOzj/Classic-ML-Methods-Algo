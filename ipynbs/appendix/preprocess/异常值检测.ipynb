{
 "cells": [
  {
   "cell_type": "markdown",
   "metadata": {},
   "source": [
    "### 异常值\n",
    "异常值指的样本中的特例,和其他样例偏离太大,以至于让我们觉得是采样来自别处.  \n",
    "\n",
    "\n",
    "### 异常值检测的必要\n",
    "数据预处理过程中常常会有异常值检测的需要,一般是来避免对统计模型的影响.试想,如果回归模型中,我们使用最小二乘法时有一个偏差很大的异常值.\n",
    "\n",
    "### 异常值来源\n",
    "以线性回归的采样为例,我们研究中国大陆刚毕业的程序员月收入和掉发数量的关系.\n",
    "异常值的来源多种多样,常见的有\n",
    "- 人工录入错误(录入掉发数量不小心多了个0)\n",
    "- 测量误差(测量掉法量的仪器损坏)\n",
    "- 采样错误(采样了一位工作多年的已经秃头的程序员)\n",
    "- 新情况(00后程序员更加注意养生)  \n",
    "\n",
    " \n",
    "\n",
    "\n",
    "### 参考\n",
    "- [towardsdatascience的一篇博客](https://towardsdatascience.com/a-brief-overview-of-outlier-detection-techniques-1e0b2c19e561)\n",
    "- [一篇知乎文章](zhihu.com/question/38066650)"
   ]
  },
  {
   "cell_type": "markdown",
   "metadata": {},
   "source": [
    "### 常见的检测方法\n",
    "我们需要根据数据的维度和分布以及业务情况(比如数据分布是否会更新,是否需要动态检测)来选择合理的异常值检测方法.常见的方法有:  \n",
    "\n",
    "- IQR(InterQuartile Range),数据只有一维时结合箱图来排除\n",
    "- [Z-score](https://github.com/HAOzj/Classic-ML-Methods-Algo/blob/master/ipynbs/appendix/preprocess/%E6%A0%87%E5%87%86%E5%8C%96_%E5%BD%92%E4%B8%80%E5%8C%96_%E4%B8%AD%E5%BF%83%E5%8C%96.pdf),假设数据分布为低维高斯分布时适用\n",
    "- DBSCAN,基于数据点的密度来排除,可以动态得执行,但相应得对于新数据需要重新适应\n",
    "- 分离森林(Isolation Forest),基于随机切分的方法"
   ]
  },
  {
   "cell_type": "code",
   "execution_count": null,
   "metadata": {},
   "outputs": [],
   "source": []
  }
 ],
 "metadata": {
  "kernelspec": {
   "display_name": "Python 3",
   "language": "python",
   "name": "python3"
  },
  "language_info": {
   "codemirror_mode": {
    "name": "ipython",
    "version": 3
   },
   "file_extension": ".py",
   "mimetype": "text/x-python",
   "name": "python",
   "nbconvert_exporter": "python",
   "pygments_lexer": "ipython3",
   "version": "3.7.2"
  }
 },
 "nbformat": 4,
 "nbformat_minor": 2
}
