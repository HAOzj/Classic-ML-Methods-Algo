{
 "cells": [
  {
   "cell_type": "markdown",
   "metadata": {},
   "source": [
    "# 数据抽样\n",
    "\n",
    "一般来说我们的训练集不会全部用来做训练,而是抽取大部分来训练,余下一些做其他用途.最常见的数据抽样方式和比例为:\n",
    "\n",
    "+ 训练集7:验证集3\n",
    "+ 训练集8:验证集2\n",
    "+ 训练集8:验证集1:测试集1\n",
    "+ 训练集7:验证集2:测试集1\n",
    "\n",
    "具体多少可以按情况来定,但有几个原则必须遵守:\n",
    "\n",
    "+ 训练集,验证集必须都有\n",
    "+ 训练集要占大头\n",
    "\n",
    "训练集越大自然被用于训练的数据就越多,这是样更加不容易过拟合些.验证集用于检验模型的效果,一般会参与训练过程作为一个指标指导训练防止过拟合.当然验证集也是大点好.测试集用于在没有验证数据或者验证有一定限制的时候用于自测."
   ]
  },
  {
   "cell_type": "markdown",
   "metadata": {},
   "source": [
    "## ***使用sklearn进行数据抽样***\n",
    "\n",
    "sklearn中集成了数据拆分的接口`sklearn.model_selection.train_test_split`.不过一般只是拆分为训练集和验证集."
   ]
  },
  {
   "cell_type": "code",
   "execution_count": 1,
   "metadata": {
    "collapsed": true
   },
   "outputs": [],
   "source": [
    "X = [1,2,3,4,5,6,7,8,9,10]"
   ]
  },
  {
   "cell_type": "code",
   "execution_count": 2,
   "metadata": {
    "collapsed": true
   },
   "outputs": [],
   "source": [
    "from sklearn.model_selection import train_test_split"
   ]
  },
  {
   "cell_type": "code",
   "execution_count": 3,
   "metadata": {
    "collapsed": false
   },
   "outputs": [
    {
     "data": {
      "text/plain": [
       "[[6, 1, 7, 2, 10, 8], [4, 3, 9, 5]]"
      ]
     },
     "execution_count": 3,
     "metadata": {},
     "output_type": "execute_result"
    }
   ],
   "source": [
    "train_test_split(X,test_size=0.4,train_size =0.6)"
   ]
  }
 ],
 "metadata": {
  "kernelspec": {
   "display_name": "Python 3",
   "language": "python",
   "name": "python3"
  },
  "language_info": {
   "codemirror_mode": {
    "name": "ipython",
    "version": 3
   },
   "file_extension": ".py",
   "mimetype": "text/x-python",
   "name": "python",
   "nbconvert_exporter": "python",
   "pygments_lexer": "ipython3",
   "version": "3.6.0"
  }
 },
 "nbformat": 4,
 "nbformat_minor": 2
}
