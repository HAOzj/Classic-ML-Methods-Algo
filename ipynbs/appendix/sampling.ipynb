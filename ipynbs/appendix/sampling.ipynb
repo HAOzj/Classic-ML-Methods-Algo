{
 "cells": [
  {
   "cell_type": "markdown",
   "metadata": {},
   "source": [
    "# 数据抽样\n",
    "\n",
    "一般来说我们的训练集不会全部用来做训练,而是抽取大部分来训练,余下一些做其他用途.最常见的数据抽样方式和比例为:\n",
    "\n",
    "+ 训练集7:验证集3\n",
    "+ 训练集8:验证集2\n",
    "+ 训练集8:验证集1:测试集1\n",
    "+ 训练集7:验证集2:测试集1\n",
    "\n",
    "具体多少可以按情况来定,但有几个原则必须遵守:\n",
    "\n",
    "+ 训练集,验证集必须都有\n",
    "+ 训练集要占大头\n",
    "\n",
    "训练集越大自然被用于训练的数据就越多,这是样更加不容易过拟合些.验证集用于检验模型的效果,一般会参与训练过程作为一个指标指导训练防止过拟合.当然验证集也是大点好.测试集用于在没有验证数据或者验证有一定限制的时候用于自测."
   ]
  }
 ],
 "metadata": {
  "kernelspec": {
   "display_name": "Python 3",
   "language": "python",
   "name": "python3"
  },
  "language_info": {
   "codemirror_mode": {
    "name": "ipython",
    "version": 3
   },
   "file_extension": ".py",
   "mimetype": "text/x-python",
   "name": "python",
   "nbconvert_exporter": "python",
   "pygments_lexer": "ipython3",
   "version": "3.6.0"
  }
 },
 "nbformat": 4,
 "nbformat_minor": 2
}
