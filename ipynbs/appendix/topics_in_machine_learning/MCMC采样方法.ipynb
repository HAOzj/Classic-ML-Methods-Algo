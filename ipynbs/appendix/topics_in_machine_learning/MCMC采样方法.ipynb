{
 "cells": [
  {
   "cell_type": "markdown",
   "metadata": {},
   "source": [
    "# MCMC\n",
    "MCMC(Monte Carlo Markov Chain)是统计学中用于采样的一类方法.它通过构造一个Markov Chain(马尔科夫链),而这个Markov Chain的平稳分布是我们希望采样的概率分布,模拟到达平稳分布后的状态来获得该分布的采样.\n",
    "\n",
    "\n",
    "### 命名来源\n",
    "- Monte Carlo是因为使用了Monte Carlo Simulation的模拟方法\n",
    "- Markov Chain是因为利用了Markov Chain的stationary distribution\n",
    "\n",
    "### 具体方法\n",
    "- Metropolis方法\n",
    "- Metropolis-Hastings方法\n",
    "- Gibbs Sampler\n"
   ]
  },
  {
   "cell_type": "markdown",
   "metadata": {},
   "source": [
    "# Gibbs Sampler\n",
    "Gibbs Sampler(吉布斯采样)是一种MCMC方法,用于不方便直接采样多变量分布时.它是按轮逐个得基于条件概率来采样每个变量(子变量集合).比如我们的变量为 \n",
    "$$ X=(x_1, x_2, x_3) $$  \n",
    "t轮采样的顺序为 \n",
    "1. $ x_1^t \\sim p(X_1=x_1^t |X_2=x_2^{t-1}, X_3=x_3^{t-1} ) $, 采样得到的点为$(x_1^t, x_2^{t-1}, x_3^{t-1})$\n",
    "2. $ x_2^t \\sim p(X_2=x_2^t |X_1=x_1^t, X_3=x_3^{t-1} ) $, 采样得到的点为$(x_1^t, x_2^t, x_3^{t-1})$\n",
    "3. $ x_3^t \\sim p(X_3=x_3^t |X_1=x_1^t, X_2=x_2^t ) $, 采样得到的点为$(x_1^t, x_2^t, x_3^t)$  "
   ]
  },
  {
   "cell_type": "code",
   "execution_count": null,
   "metadata": {},
   "outputs": [],
   "source": []
  }
 ],
 "metadata": {
  "kernelspec": {
   "display_name": "Python 3",
   "language": "python",
   "name": "python3"
  },
  "language_info": {
   "codemirror_mode": {
    "name": "ipython",
    "version": 3
   },
   "file_extension": ".py",
   "mimetype": "text/x-python",
   "name": "python",
   "nbconvert_exporter": "python",
   "pygments_lexer": "ipython3",
   "version": "3.7.2"
  }
 },
 "nbformat": 4,
 "nbformat_minor": 2
}
