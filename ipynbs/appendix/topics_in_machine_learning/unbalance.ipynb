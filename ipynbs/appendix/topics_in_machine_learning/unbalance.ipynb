{
 "cells": [
  {
   "cell_type": "markdown",
   "metadata": {},
   "source": [
    "# 数据不平衡怎么处理?\n",
    "\n",
    "\n",
    "从不平衡数据中学习,是一项已被研究了多年的问题.它曾是许多论文,研讨会,特别议程的主题.人们尝试了许多方法,但结果各不相同,所以至今没有得到明晰的答案.当数据科学家们第一次遇到这个问题,他们往往会问:\"如果我的数据是不平衡的,我该怎么做?\"而这一问题是没有固定答案的,就像你问\"哪个学习算法是最好的?\"一样:答案取决于数据.\n",
    "\n",
    "但总的来说还是有那么几种可以尝试的方法的:\n",
    "\n",
    "+ 对少数类结合数据增强进行过采样\n",
    "\n",
    "+ 对多数类进行欠采样\n",
    "\n",
    "+ 调整类的权重(错误分类成本),使已有的算法对少数类更加敏感\n",
    "\n",
    "\n",
    "有项目[imbalanced-learn](https://github.com/scikit-learn-contrib/imbalanced-learn)可以用来处理数据不平衡问题.有兴趣的可以试试."
   ]
  }
 ],
 "metadata": {
  "kernelspec": {
   "display_name": "Python 3",
   "language": "python",
   "name": "python3"
  },
  "language_info": {
   "codemirror_mode": {
    "name": "ipython",
    "version": 3
   },
   "file_extension": ".py",
   "mimetype": "text/x-python",
   "name": "python",
   "nbconvert_exporter": "python",
   "pygments_lexer": "ipython3",
   "version": "3.6.0"
  }
 },
 "nbformat": 4,
 "nbformat_minor": 2
}
