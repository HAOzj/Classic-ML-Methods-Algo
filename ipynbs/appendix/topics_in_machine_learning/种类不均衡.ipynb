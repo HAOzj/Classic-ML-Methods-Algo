{
 "cells": [
  {
   "cell_type": "markdown",
   "metadata": {},
   "source": [
    "# 数据不平衡\n",
    "\n",
    "数据不平衡指的是监督学习中,样本的类别分布不平衡,比如fraud detection中欺诈和正常的比例为1:10000.因为大部分算法是基于样例的,训练过程是最小化所有样例的预测值和真实值之间的差.这样小类别很容易被忽略.\n",
    "\n",
    "\n",
    "# 数据不平衡怎么处理?\n",
    "\n",
    "一般来说,数据不平衡的处理方法分为基于cai yang:\n",
    "\n",
    "+ 对少数类结合数据增强进行过采样\n",
    "\n",
    "+ 对多数类进行欠采样\n",
    "\n",
    "+ 调整类的权重(错误分类成本),使已有的算法对少数类更加敏感\n",
    "\n",
    "\n",
    "有项目[imbalanced-learn](https://github.com/scikit-learn-contrib/imbalanced-learn)可以用来处理数据不平衡问题.有兴趣的可以试试."
   ]
  }
 ],
 "metadata": {
  "kernelspec": {
   "display_name": "Python 3",
   "language": "python",
   "name": "python3"
  },
  "language_info": {
   "codemirror_mode": {
    "name": "ipython",
    "version": 3
   },
   "file_extension": ".py",
   "mimetype": "text/x-python",
   "name": "python",
   "nbconvert_exporter": "python",
   "pygments_lexer": "ipython3",
   "version": "3.7.3"
  }
 },
 "nbformat": 4,
 "nbformat_minor": 2
}
