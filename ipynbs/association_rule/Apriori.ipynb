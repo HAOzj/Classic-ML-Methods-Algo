{
 "cells": [
  {
   "cell_type": "code",
   "execution_count": 1,
   "metadata": {},
   "outputs": [],
   "source": [
    "from scipy.sparse import csr_matrix"
   ]
  },
  {
   "cell_type": "code",
   "execution_count": 2,
   "metadata": {},
   "outputs": [],
   "source": [
    "def get_top_k(sparse_row, k):\n",
    "    \"\"\"从每一行获得前k大的值的索引\n",
    "    \n",
    "    Args:\n",
    "        sparse_row(csr_matrix) :- 行数为1的稀疏矩阵\n",
    "        k(int) :- 大于0\n",
    "    \"\"\"\n",
    "    ordered_indices = [x[1] for x in sorted(zip(sparse_row.data, sparse_row.indices), key=lambda x: x[0], reverse=True)]\n",
    "    num = len(ordered_indices)\n",
    "    if num == 0:\n",
    "        return []\n",
    "    else:\n",
    "        return ordered_indices[: min(num, k)]  "
   ]
  },
  {
   "cell_type": "code",
   "execution_count": 3,
   "metadata": {},
   "outputs": [],
   "source": [
    "def second_order_association_rule(rating_matrice, min_support, min_confidence, rule_alpha=0.05, k_1=10, k_2=20):\n",
    "    \"\"\"二阶关联规则\n",
    "    \n",
    "    每个用户评过高分的物品作为交易\n",
    "    \n",
    "    Args:\n",
    "        rating_matrice(csr_matrix) :- 评分矩阵, \n",
    "                                    of shape n * m, n为用户数量,m为物品数量\n",
    "        min_support(float) :- 最小支持度, 小于1\n",
    "        min_confidence(float) :- 最小置信度, 小于1\n",
    "        rule_alpha(float) :- 置信度的权重,介于0和1之间\n",
    "        k_1(int) :- 每个物品的关联物品的最大数量\n",
    "        k_2(int) :- 每个用户的推荐物品的最大数量\n",
    "    Returns:\n",
    "        rule_dict, dict, {漫画索引: [关联漫画的索引,按照置信度从高往低排]}\n",
    "        rec_dict, dict, {用户索引: [推荐漫画的索引,按照推荐度从高往低排]}\n",
    "    \"\"\"\n",
    "    try:\n",
    "        assert len(rating_matrice.shape) == 2\n",
    "    except AssertionError:\n",
    "        print(\"rating matrice must be 2-dimensional\")\n",
    "    n, m = rating_matrice.shape\n",
    "    rating_binary = 1 * (rating_matrice > 0)\n",
    "    \n",
    "    # freq_matrice为m * m维矩阵\n",
    "    # i, j 元素为同时拥有物品i和物品j的交易的数量\n",
    "    # 对角线元素i, i为物品i的频数\n",
    "    freq_matrice = rating_binary.transpose() * rating_binary\n",
    "    \n",
    "    minimum = min_support * n\n",
    "    \n",
    "    data = []\n",
    "    row_ind = []\n",
    "    col_ind = []\n",
    "    for row in range(m):\n",
    "        diagonal = freq_matrice[row, row]\n",
    "        if diagonal >= minimum:\n",
    "            data.append(1/diagonal)\n",
    "            row_ind.append(row)\n",
    "            col_ind.append(row)\n",
    "        else:\n",
    "            freq_matrice[row, :] = 0\n",
    "            freq_matrice[:, row] = 0\n",
    "    scaler_matrice = csr_matrix((data, (row_ind, col_ind)), shape=(m, m))\n",
    "    \n",
    "    conf_matrice = rule_alpha * freq_matrice * scaler_matrice + (1 - rule_alpha) * scaler_matrice * freq_matrice\n",
    "    conf_matrice = conf_matrice.multiply(conf_matrice >= min_confidence)\n",
    "    \n",
    "    rule_dict = dict()\n",
    "    rec_dict = dict()\n",
    "    \n",
    "    for row in range(m):\n",
    "        sparse_row = conf_matrice.getrow(row)\n",
    "        top_k = get_top_k(sparse_row, k_1)\n",
    "        if top_k:\n",
    "            rule_dict[row] = top_k\n",
    "    \n",
    "    \n",
    "    rec_matrice = rating_matrice * conf_matrice\n",
    "    for row in range(n):\n",
    "        sparse_row = conf_matrice.getrow(row)\n",
    "        top_k = get_top_k(sparse_row, k_1)\n",
    "        if top_k:\n",
    "            rec_dict[row] = top_k    \n",
    "    return rule_dict, rec_dict\n",
    "    \n",
    "    \n",
    "  \n",
    "    "
   ]
  },
  {
   "cell_type": "code",
   "execution_count": null,
   "metadata": {},
   "outputs": [],
   "source": []
  }
 ],
 "metadata": {
  "kernelspec": {
   "display_name": "Python 3",
   "language": "python",
   "name": "python3"
  },
  "language_info": {
   "codemirror_mode": {
    "name": "ipython",
    "version": 3
   },
   "file_extension": ".py",
   "mimetype": "text/x-python",
   "name": "python",
   "nbconvert_exporter": "python",
   "pygments_lexer": "ipython3",
   "version": "3.7.3"
  }
 },
 "nbformat": 4,
 "nbformat_minor": 2
}
