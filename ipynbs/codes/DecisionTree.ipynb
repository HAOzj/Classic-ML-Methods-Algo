{
 "cells": [
  {
   "cell_type": "code",
   "execution_count": 1,
   "metadata": {},
   "outputs": [],
   "source": [
    "\n",
    "x = [   [0,0], [0,1], [0,1] ,\n",
    "     [1,0], [1,1], [1,2]\n",
    "]\n",
    "\n",
    "y = [1,0,1,1,0,1]\n",
    "\n",
    "col_name = [\"gender\", \"age\"]"
   ]
  },
  {
   "cell_type": "code",
   "execution_count": 2,
   "metadata": {},
   "outputs": [],
   "source": [
    "from collections import Counter\n",
    "from math import log\n",
    "\n",
    "class DT_hzj():\n",
    "    \n",
    "    def __init__(self):\n",
    "        print \"求豆麻袋\"\n",
    "    \n",
    "    def set_metric(self, metric):\n",
    "        if metric == \"gini\":\n",
    "            self.imp = DT_hzj.gini\n",
    "        elif metric == 'entropy':\n",
    "            self.imp = DT_hzj.entropy\n",
    "        self.metric = metric\n",
    "        \n",
    "    @staticmethod\n",
    "    def gini(y):\n",
    "        '''\n",
    "        ttl: 样本总数\n",
    "        cnt: 样本的类分布\n",
    "        '''\n",
    "        ttl = float(len(y)) \n",
    "        cnt = Counter(y)\n",
    "        result = 1\n",
    "        for key in cnt:\n",
    "            result -=  (cnt[key]/ttl)**2\n",
    "        return result\n",
    "    \n",
    "    @staticmethod\n",
    "    def entropy(y):\n",
    "        ttl = float(len(y))\n",
    "        cnt = Counter(y)\n",
    "        result = 0\n",
    "        for key in cnt:\n",
    "            pi = cnt[key]/ttl\n",
    "            result -= pi*log(pi)\n",
    "        return result\n",
    "    \n",
    "    def DT(self,x,y, indices, modalities, metric=\"gini\"):\n",
    "        ''' 对(x,y)的子集根据metric进行一次分支\n",
    "\n",
    "        Args:\n",
    "            (x,y) 数据集\n",
    "            indices(iterables) :- 目前叶子上的数据点的指标\n",
    "            modalities(iterables) :- [[modality]],每种特征的取值空间\n",
    "            metric(str) :- 不纯度度量\n",
    "        '''\n",
    "\n",
    "        col_num = len(x[0])\n",
    "        num_samples = float(len(indices))\n",
    "\n",
    "        x_sample = [x[index] for index in indices]\n",
    "        y_sample = [y[index] for index in indices]\n",
    "\n",
    "            \n",
    "        impurity = self.imp(y_sample)\n",
    "\n",
    "        impurity_min = 1\n",
    "\n",
    "        leaves = []\n",
    "\n",
    "        for col in range(col_num):\n",
    "            impurity_A = 0\n",
    "            leaves_candidate = []\n",
    "\n",
    "            for modality in modalities[col]:\n",
    "\n",
    "                sample_k = [ (i,value) for i,value in enumerate(y_sample) if x_sample[i][col]==modality ]\n",
    "                y_k = [ele[1] for ele in sample_k]\n",
    "                if len(y_k) > 0: # 避免生成空叶子\n",
    "                    gini_k = self.imp(y_k)\n",
    "                    impurity_A += len(y_k)/num_samples * gini_k\n",
    "\n",
    "                    leaves_candidate.append( { \"sample\" : [  indices[ele[0]] for ele in sample_k], \"modality\" : modality, \"impurity\" : gini_k}  )\n",
    "\n",
    "            if impurity_A < impurity_min:\n",
    "                impurity_min =  impurity_A\n",
    "                A = col_name[col]\n",
    "                leaves = leaves_candidate\n",
    "\n",
    "        impurity_reduction = impurity- impurity_min\n",
    "        return impurity_reduction, A, leaves\n",
    "    \n",
    "    @staticmethod    \n",
    "    def stop_cond(leaves):\n",
    "        ''' 终止条件:叶子结点都为单一类型\n",
    "        '''\n",
    "        for leaf in leaves:\n",
    "            if leaf[\"impurity\"] > 0 :\n",
    "                return False\n",
    "\n",
    "        return True\n",
    "\n",
    "    @staticmethod \n",
    "    def majority(y, samples):\n",
    "        ''' 得到y子列中的多数\n",
    "        '''\n",
    "        y_sample = [y[i] for i in samples]\n",
    "        return Counter(y_sample).most_common(1)[0][0]\n",
    "    \n",
    "    def DT_total(self, x,y):\n",
    "        ''' 从(x,y)训练集中得到叶子和非叶子结点的列表\n",
    "        \n",
    "        叶子和非叶子结点都是字典\n",
    "        \n",
    "        - 非叶子结点的字段包括['attr', 'sample', 'modality', 'impurity', 'children', 'name']\n",
    "          根节点不包括'modality'\n",
    "        \n",
    "        - 叶子结点的字段包括['modality','name','sample', 'impurity']\n",
    "        '''\n",
    "        # 保证x和y数量一致\n",
    "        try :\n",
    "            assert len(x) == len(y)\n",
    "        except AssertionError:\n",
    "            raise Exception(\"The length of x and y must be identical\")\n",
    "\n",
    "\n",
    "        self.col_num = len(x[0])\n",
    "\n",
    "        self.modalities =[ set() for _ in range(self.col_num)]\n",
    "\n",
    "        # 获取全部特征的取值空间以及确保x没有缺失值\n",
    "        try:\n",
    "            for x_i in x:\n",
    "                assert len(x_i) == self.col_num\n",
    "                for col in range(self.col_num):\n",
    "                    self.modalities[col].add(x_i[col])\n",
    "        except AssertionError:\n",
    "            raise Exception(\"The length of x must be equal\")\n",
    "\n",
    "        ttl = len(x) # 样本大小\n",
    "        leaves = [] # 叶子结点\n",
    "        non_leaves = [] # 非叶子结点,每个非叶子结点都有key来表示孩子结点\n",
    "\n",
    "        root = {\n",
    "            \"impurity\" : self.imp(y),\n",
    "            \"sample\" : [i for i in range(ttl)],\n",
    "            \"name\" : 'v0'\n",
    "        }\n",
    "        i = 0\n",
    "\n",
    "        leaves.append(root)\n",
    "\n",
    "        while not DT_hzj.stop_cond(leaves): # 不满足停止条件时\n",
    "            leaf2split = dict()\n",
    "            childrenGenerated = []\n",
    "            attrChosen = ''\n",
    "\n",
    "            impu_reduc_max = 0\n",
    "            for leaf in leaves:\n",
    "                if leaf[\"impurity\"] > 0:\n",
    "                    samples = leaf['sample']\n",
    "\n",
    "                    impu_reduc, attr, children = self.DT(x, y, indices=samples, modalities=self.modalities)\n",
    "                    impu_reduc_tmp = impu_reduc * len(samples)\n",
    "                    if impu_reduc_tmp > impu_reduc_max:\n",
    "                        leaf2split = leaf\n",
    "                        childrenGenerated = filter(None,children)\n",
    "                        attrChosen = attr\n",
    "\n",
    "            if not leaf2split: # 若没有可以降低不纯度的split方法,则停止split\n",
    "                break\n",
    "            leaves.remove(leaf2split)\n",
    "\n",
    "\n",
    "            leaf2split[\"children\"] = []\n",
    "            for child in childrenGenerated:\n",
    "                i += 1\n",
    "                name = \"v{}\".format(i)\n",
    "                child[\"name\"] = name\n",
    "                leaf2split[\"children\"].append(name)\n",
    "                leaf2split[\"attr\"] = attrChosen\n",
    "\n",
    "            leaves.extend(childrenGenerated)\n",
    "            non_leaves.append(leaf2split)\n",
    "        self.leaves = leaves\n",
    "        self.non_leaves = non_leaves\n",
    "\n",
    "        return leaves, non_leaves\n",
    "    \n",
    "    @staticmethod \n",
    "    def get_subtree(leaves, non_leaves, root='v0'):\n",
    "        ''' 从叶子结点和非叶子结点中提取出规则\n",
    "        \n",
    "        规则用字典的形式表示 \n",
    "        {\n",
    "            'attr1=modality1': y, \n",
    "            'attr1=modality2' : {\n",
    "                'attr2=modality1' : y,\n",
    "                'attr2=modality2' : {\n",
    "                \n",
    "                }\n",
    "            }\n",
    "        }\n",
    "        \n",
    "        '''\n",
    "        subtree = dict()\n",
    "\n",
    "        leaves_name = [node[\"name\"] for node in leaves]\n",
    "        nonLeaves_name = [node[\"name\"] for node in non_leaves]\n",
    "\n",
    "        index = nonLeaves_name.index(root)\n",
    "        node = non_leaves[index]\n",
    "        branches = node[\"children\"]\n",
    "        attr = node[\"attr\"]\n",
    "        for child_name in branches:\n",
    "            if child_name in nonLeaves_name:\n",
    "                child = non_leaves[ nonLeaves_name.index(child_name) ]\n",
    "            else:\n",
    "                child = leaves[ leaves_name.index(child_name)]\n",
    "            modality = child[\"modality\"]\n",
    "\n",
    "            if child_name not in leaves_name: # 子结点还在分支\n",
    "                subtree[\"{}={}\".format(attr, modality)] = DT_hzj.get_subtree(leaves, non_leaves, child_name)\n",
    "\n",
    "            else :\n",
    "                subtree[\"{}={}\".format(attr, modality)] = DT_hzj.majority(y, child['sample'])\n",
    "\n",
    "        return subtree\n",
    "\n",
    "    def fit(self,x,y, col_name, metric = 'gini'):\n",
    "        self.set_metric(metric)\n",
    "        self.col_name = col_name\n",
    "        self.col_num = len(col_name)\n",
    "        leaves, non_leaves = self.DT_total(x,y)\n",
    "        self.tree = DT_hzj.get_subtree(leaves, non_leaves)    \n",
    "\n",
    "    def pred(self, x_test):\n",
    "\n",
    "        try:\n",
    "            assert self.col_num==len(x_test)\n",
    "        except AssertionError:\n",
    "            raise Exception(\"x is not of the right dimensionality\")\n",
    "\n",
    "        x_conv = [\"{}={}\".format(self.col_name[index], x_test[index])  for index in range(self.col_num)]\n",
    "        print \"new data point is \",\n",
    "        print x_conv\n",
    "        \n",
    "        i = 1\n",
    "        subtree = self.tree\n",
    "        \n",
    "        print i,' step : ',\n",
    "        print subtree\n",
    "        i += 1\n",
    "        while isinstance(subtree, dict):\n",
    "            reach = False\n",
    "            for x_i in x_conv:\n",
    "                if x_i in subtree:\n",
    "                    subtree = subtree[x_i]\n",
    "                    print i,' step : ',\n",
    "                    print subtree\n",
    "                    i += 1\n",
    "                    reach = True\n",
    "                    break\n",
    "            if not reach:\n",
    "                subtree = \"can't predict\"\n",
    "\n",
    "        self.prediction = subtree"
   ]
  },
  {
   "cell_type": "code",
   "execution_count": 3,
   "metadata": {},
   "outputs": [
    {
     "name": "stdout",
     "output_type": "stream",
     "text": [
      "求豆麻袋\n"
     ]
    }
   ],
   "source": [
    "clf = DT_hzj()\n",
    "            \n",
    "    "
   ]
  },
  {
   "cell_type": "code",
   "execution_count": 4,
   "metadata": {},
   "outputs": [],
   "source": [
    "clf.fit(x,y,col_name, metric='entropy')\n",
    "        "
   ]
  },
  {
   "cell_type": "code",
   "execution_count": 5,
   "metadata": {},
   "outputs": [
    {
     "name": "stdout",
     "output_type": "stream",
     "text": [
      "new data point is  ['gender=1', 'age=1']\n",
      "1  step :  {'age=2': 1, 'age=1': {'gender=0': 0, 'gender=1': 0}, 'age=0': 1}\n",
      "2  step :  {'gender=0': 0, 'gender=1': 0}\n",
      "3  step :  0\n"
     ]
    }
   ],
   "source": [
    "clf.pred(x_test = [1,1])"
   ]
  },
  {
   "cell_type": "code",
   "execution_count": 6,
   "metadata": {},
   "outputs": [
    {
     "name": "stdout",
     "output_type": "stream",
     "text": [
      "new data point is  ['gender=0', 'age=0']\n",
      "1  step :  {'age=2': 1, 'age=1': {'gender=0': 0, 'gender=1': 0}, 'age=0': 1}\n",
      "2  step :  1\n"
     ]
    }
   ],
   "source": [
    "clf.pred([0,0])"
   ]
  },
  {
   "cell_type": "code",
   "execution_count": 7,
   "metadata": {},
   "outputs": [
    {
     "data": {
      "text/plain": [
       "{'age=0': 1, 'age=1': {'gender=0': 0, 'gender=1': 0}, 'age=2': 1}"
      ]
     },
     "execution_count": 7,
     "metadata": {},
     "output_type": "execute_result"
    }
   ],
   "source": [
    "clf.tree"
   ]
  },
  {
   "cell_type": "code",
   "execution_count": 8,
   "metadata": {},
   "outputs": [
    {
     "data": {
      "text/plain": [
       "['gender', 'age']"
      ]
     },
     "execution_count": 8,
     "metadata": {},
     "output_type": "execute_result"
    }
   ],
   "source": [
    "clf.col_name"
   ]
  },
  {
   "cell_type": "code",
   "execution_count": 9,
   "metadata": {},
   "outputs": [
    {
     "data": {
      "text/plain": [
       "[{'impurity': 0.0, 'modality': 0, 'name': 'v1', 'sample': [0, 3]},\n",
       " {'impurity': 0.0, 'modality': 2, 'name': 'v3', 'sample': [5]},\n",
       " {'impurity': 0.6931471805599453,\n",
       "  'modality': 0,\n",
       "  'name': 'v4',\n",
       "  'sample': [1, 2]},\n",
       " {'impurity': 0.0, 'modality': 1, 'name': 'v5', 'sample': [4]}]"
      ]
     },
     "execution_count": 9,
     "metadata": {},
     "output_type": "execute_result"
    }
   ],
   "source": [
    "clf.leaves"
   ]
  },
  {
   "cell_type": "code",
   "execution_count": 10,
   "metadata": {},
   "outputs": [
    {
     "data": {
      "text/plain": [
       "[{'attr': 'age',\n",
       "  'children': ['v1', 'v2', 'v3'],\n",
       "  'impurity': 0.6365141682948128,\n",
       "  'name': 'v0',\n",
       "  'sample': [0, 1, 2, 3, 4, 5]},\n",
       " {'attr': 'gender',\n",
       "  'children': ['v4', 'v5'],\n",
       "  'impurity': 0.6365141682948128,\n",
       "  'modality': 1,\n",
       "  'name': 'v2',\n",
       "  'sample': [1, 2, 4]}]"
      ]
     },
     "execution_count": 10,
     "metadata": {},
     "output_type": "execute_result"
    }
   ],
   "source": [
    "clf.non_leaves"
   ]
  }
 ],
 "metadata": {
  "kernelspec": {
   "display_name": "Python 2",
   "language": "python",
   "name": "python2"
  },
  "language_info": {
   "codemirror_mode": {
    "name": "ipython",
    "version": 2
   },
   "file_extension": ".py",
   "mimetype": "text/x-python",
   "name": "python",
   "nbconvert_exporter": "python",
   "pygments_lexer": "ipython2",
   "version": "2.7.15"
  }
 },
 "nbformat": 4,
 "nbformat_minor": 2
}
