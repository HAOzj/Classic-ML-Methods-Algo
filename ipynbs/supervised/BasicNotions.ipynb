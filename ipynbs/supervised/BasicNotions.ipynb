{
 "cells": [
  {
   "cell_type": "markdown",
   "metadata": {},
   "source": [
    "在这里给大家罗列一下监督学习中常见的概念.\n",
    "\n",
    "* 二元分类器和多元分类器:有监督学习的分类问题中,数据的标签有两种时,我们使用的模型叫做二元分类器;当数据标签有多种时,叫做多元分类器.\n",
    "* 超平面:d维线性空间$S = \\{ \\vec{x} =(x_1,x_2,x_3,...,x_d), x_i \\in {-\\infty,\\infty} \\forall i \\in [1,d]\\}$中的$d-1$维子空间,比如$x_1*w_1 + x_2*w_2 + ... + x_d*w_d =0$这个线性方程确定的平面就是d维空间中的一个超平面\n",
    "* 线性分类器:分类问题中通过预测变量的线性组合来做出分类决策的模型\n"
   ]
  },
  {
   "cell_type": "code",
   "execution_count": null,
   "metadata": {
    "collapsed": true
   },
   "outputs": [],
   "source": []
  }
 ],
 "metadata": {
  "kernelspec": {
   "display_name": "Python 3",
   "language": "python",
   "name": "python3"
  },
  "language_info": {
   "codemirror_mode": {
    "name": "ipython",
    "version": 3
   },
   "file_extension": ".py",
   "mimetype": "text/x-python",
   "name": "python",
   "nbconvert_exporter": "python",
   "pygments_lexer": "ipython3",
   "version": "3.4.4"
  }
 },
 "nbformat": 4,
 "nbformat_minor": 2
}
