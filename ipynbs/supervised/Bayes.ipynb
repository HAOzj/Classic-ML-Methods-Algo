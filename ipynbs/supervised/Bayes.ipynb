{
 "cells": [
  {
   "cell_type": "markdown",
   "metadata": {
    "deletable": true,
    "editable": true
   },
   "source": [
    "# 贝叶斯分类器含义\n",
    "\n",
    "贝叶斯分类器是一种基于贝叶斯概率的模型,用来处理分类问题.最常见的是朴素贝叶斯分类器和高斯贝叶斯分类器,\"朴素\"是因为它假设各个预测变量之间相互独立,\"高斯\"是因为它假设每类数据的每个预测变量都服从参数独立的高斯分布,也就是正态分布.\n",
    "\n",
    "# 贝叶斯公式\n",
    "\n",
    "贝叶斯分类器来源于贝叶斯公式,也就是条件概率公式,以离散情况为例便是$P(y|x)=\\frac{P(x|y)*P(y)}{P(x)}$,其中y为类集合Y中的一种,x为X预测变量的一种情况.现实中便是根据y类中出现x特征的概率乘以y类出现的概率再除以x特征的概率来计算出现了x特征属于y类的概率.\n",
    "\n",
    "## 朴素贝叶斯(离散型)\n",
    "\n",
    "对于最简单的朴素贝叶斯分类器,不妨假设共有两个预测变量X1和X2,那么\"朴素贝叶斯\"便是\n",
    "$P(y|x1,x2)=\\frac{P(x1,x2|y)*P(y)}{P(x1,x2)}=\\frac{P(x1|x2,y)*P(x2|y)*P(y)}{P(x1|x2)*P(x2)}=\\frac{P(x1|y)*P(x2|y)*P(y)}{P(x1)*P(x2)}$\n",
    "\n",
    "其中x1,x2分别为X1,X2两个预测变量的一种情况.\n",
    "这样,给定X1和X2变量的值x1,x2就可以得到$P(y|x1,x2), \\forall y, y\\in Y$.我们既可以得到某一数据点属于各种类的概率,也可以求出$ \\arg \\max \\limits_y P(y|x1,x2)$,也就是使得概率最大的那个类.\n",
    "\n",
    "## 高斯贝叶斯(连续型)\n",
    "\n",
    "除了离散数据,贝叶斯分类器也可以处理连续型数据,叫做\"高斯贝叶斯分类器\".高斯贝叶斯分类器同样基于变量之间相互独立的假设,并且假设每类数据的每个预测变量都服从高斯分布,也就是正态分布.不妨设y类的X1,X2预测变量分别服从$N(\\mu_1,\\sigma^2_1)$和$N(\\mu_2,\\sigma^2_2)$.\n",
    "\n",
    "那么\n",
    "$P(y|x1,x2)=\\frac{P(x1|y)*P(x2|y)*P(y)}{P(x1)*P(x2)}$\n",
    "其中\n",
    "$P(x1|y) = \\frac{\\exp(\\frac{ (x1 - \\mu_1)^2}{\\sigma_1})}{\\sqrt{2* \\pi}*\\sigma_1}$\n",
    "$P(x2|y)=\\frac{\\exp(\\frac{ (x2 - \\mu_2)^2}{\\sigma_2})}{\\sqrt{2* \\pi}*\\sigma_2}$\n",
    "\n",
    "# 算法步骤\n",
    "\n",
    "我们可以从上面看出,朴素贝叶斯分类器需要的就是算出 $P(x|y) \\forall x \\in X, \\forall y \\in Y$,我们根据各个特征出现的频率就可以得到.\n",
    "\n",
    "高斯贝叶斯分类器需要算出$\\mu,\\sigma \\forall x \\in X, \\forall y\\in Y$.我们将最大似然估计公式对数化就知道,对于y类,X1预测变量,$\\mu = mean(S), \\sigma = std(S)$,其中S为属于y类的所有样本的X1预测变量的值的集合.\n",
    "\n",
    "# 复杂度和收敛性\n",
    "\n",
    "对于离散型,我们只要针对每一个预测变量的各种情况和每一类算出概率即可,所以复杂度是$O(N*K*\\sum\\limits_{i=1}^d{|Xi|})$,其中N是样本数量,K是类的数量,d为预测变量的个数,|Xi|是Xi预测变量的可能情况的个数.\n",
    "\n",
    "对于连续型,我们只要针对每一个预测变量和每一类算出$\\mu,\\sigma$就好,所以复杂度是$O(N*K*d))$.\n",
    "\n",
    "因为算法不是迭代的,所以不存在收敛性问题.\n",
    "\n",
    "# 优缺点\n",
    "\n",
    "朴素(高斯)贝叶斯分类器简单却有效,在选取合适的预测变量的条件下,在很多应用领域,比如文本类型识别和医疗判断,都表现不错.预测变量之间互不影响,所以不会因为变量的增加而造成复杂度上的爆炸.\n",
    "\n",
    "但是,它的假设条件太强,往往不合实际,每个预测变量都能对效果产生独立的影响,很依赖预测变量的选取.并且在离散情况下,有oov(Out Of Vocabulary)问题,也就是面对新特征时手足无措.比如在样本中,y类数据点没有出现x1特征,那么对于出现x1特征的数据点,分类器就不会把它归于y类.\n"
   ]
  },
  {
   "cell_type": "code",
   "execution_count": null,
   "metadata": {
    "collapsed": true,
    "deletable": true,
    "editable": true
   },
   "outputs": [],
   "source": []
  }
 ],
 "metadata": {
  "kernelspec": {
   "display_name": "Python 3",
   "language": "python",
   "name": "python3"
  },
  "language_info": {
   "codemirror_mode": {
    "name": "ipython",
    "version": 3
   },
   "file_extension": ".py",
   "mimetype": "text/x-python",
   "name": "python",
   "nbconvert_exporter": "python",
   "pygments_lexer": "ipython3",
   "version": "3.4.4"
  }
 },
 "nbformat": 4,
 "nbformat_minor": 2
}
