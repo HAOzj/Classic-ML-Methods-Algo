{
 "cells": [
  {
   "cell_type": "markdown",
   "id": "ccb10054",
   "metadata": {},
   "source": [
    "- .[OLS](#ols)\n",
    "- .[一些统计量的计算方法](#stats)"
   ]
  },
  {
   "cell_type": "code",
   "execution_count": null,
   "id": "b9e81ab2",
   "metadata": {},
   "outputs": [],
   "source": []
  },
  {
   "cell_type": "code",
   "execution_count": null,
   "id": "d7e5b986",
   "metadata": {},
   "outputs": [],
   "source": []
  },
  {
   "cell_type": "code",
   "execution_count": null,
   "id": "daf2be12",
   "metadata": {},
   "outputs": [],
   "source": []
  },
  {
   "cell_type": "markdown",
   "id": "8e655c56",
   "metadata": {},
   "source": [
    "# OLS的一些统计量<a id='stats'></a>"
   ]
  },
  {
   "cell_type": "code",
   "execution_count": 3,
   "id": "735cb763",
   "metadata": {},
   "outputs": [],
   "source": [
    "import numpy as np \n",
    "import pandas as pd\n",
    "import statsmodels.api as sm"
   ]
  },
  {
   "cell_type": "code",
   "execution_count": 8,
   "id": "0f6a083c",
   "metadata": {},
   "outputs": [
    {
     "data": {
      "text/html": [
       "<div>\n",
       "<style scoped>\n",
       "    .dataframe tbody tr th:only-of-type {\n",
       "        vertical-align: middle;\n",
       "    }\n",
       "\n",
       "    .dataframe tbody tr th {\n",
       "        vertical-align: top;\n",
       "    }\n",
       "\n",
       "    .dataframe thead th {\n",
       "        text-align: right;\n",
       "    }\n",
       "</style>\n",
       "<table border=\"1\" class=\"dataframe\">\n",
       "  <thead>\n",
       "    <tr style=\"text-align: right;\">\n",
       "      <th></th>\n",
       "      <th>age</th>\n",
       "      <th>gender</th>\n",
       "      <th>height</th>\n",
       "    </tr>\n",
       "  </thead>\n",
       "  <tbody>\n",
       "    <tr>\n",
       "      <th>0</th>\n",
       "      <td>13</td>\n",
       "      <td>1</td>\n",
       "      <td>166.746936</td>\n",
       "    </tr>\n",
       "    <tr>\n",
       "      <th>1</th>\n",
       "      <td>15</td>\n",
       "      <td>0</td>\n",
       "      <td>168.631229</td>\n",
       "    </tr>\n",
       "    <tr>\n",
       "      <th>2</th>\n",
       "      <td>18</td>\n",
       "      <td>1</td>\n",
       "      <td>176.332543</td>\n",
       "    </tr>\n",
       "    <tr>\n",
       "      <th>3</th>\n",
       "      <td>16</td>\n",
       "      <td>1</td>\n",
       "      <td>172.109904</td>\n",
       "    </tr>\n",
       "    <tr>\n",
       "      <th>4</th>\n",
       "      <td>12</td>\n",
       "      <td>0</td>\n",
       "      <td>165.381427</td>\n",
       "    </tr>\n",
       "    <tr>\n",
       "      <th>5</th>\n",
       "      <td>16</td>\n",
       "      <td>1</td>\n",
       "      <td>172.416753</td>\n",
       "    </tr>\n",
       "    <tr>\n",
       "      <th>6</th>\n",
       "      <td>17</td>\n",
       "      <td>0</td>\n",
       "      <td>170.653608</td>\n",
       "    </tr>\n",
       "    <tr>\n",
       "      <th>7</th>\n",
       "      <td>15</td>\n",
       "      <td>0</td>\n",
       "      <td>168.579097</td>\n",
       "    </tr>\n",
       "    <tr>\n",
       "      <th>8</th>\n",
       "      <td>18</td>\n",
       "      <td>0</td>\n",
       "      <td>171.587899</td>\n",
       "    </tr>\n",
       "    <tr>\n",
       "      <th>9</th>\n",
       "      <td>16</td>\n",
       "      <td>1</td>\n",
       "      <td>172.597424</td>\n",
       "    </tr>\n",
       "    <tr>\n",
       "      <th>10</th>\n",
       "      <td>12</td>\n",
       "      <td>0</td>\n",
       "      <td>165.780334</td>\n",
       "    </tr>\n",
       "    <tr>\n",
       "      <th>11</th>\n",
       "      <td>17</td>\n",
       "      <td>1</td>\n",
       "      <td>174.983596</td>\n",
       "    </tr>\n",
       "    <tr>\n",
       "      <th>12</th>\n",
       "      <td>17</td>\n",
       "      <td>1</td>\n",
       "      <td>174.097440</td>\n",
       "    </tr>\n",
       "    <tr>\n",
       "      <th>13</th>\n",
       "      <td>17</td>\n",
       "      <td>0</td>\n",
       "      <td>170.122181</td>\n",
       "    </tr>\n",
       "    <tr>\n",
       "      <th>14</th>\n",
       "      <td>14</td>\n",
       "      <td>0</td>\n",
       "      <td>167.103365</td>\n",
       "    </tr>\n",
       "    <tr>\n",
       "      <th>15</th>\n",
       "      <td>17</td>\n",
       "      <td>0</td>\n",
       "      <td>170.965582</td>\n",
       "    </tr>\n",
       "    <tr>\n",
       "      <th>16</th>\n",
       "      <td>15</td>\n",
       "      <td>1</td>\n",
       "      <td>170.240983</td>\n",
       "    </tr>\n",
       "    <tr>\n",
       "      <th>17</th>\n",
       "      <td>13</td>\n",
       "      <td>1</td>\n",
       "      <td>166.968439</td>\n",
       "    </tr>\n",
       "    <tr>\n",
       "      <th>18</th>\n",
       "      <td>15</td>\n",
       "      <td>0</td>\n",
       "      <td>168.658165</td>\n",
       "    </tr>\n",
       "    <tr>\n",
       "      <th>19</th>\n",
       "      <td>12</td>\n",
       "      <td>0</td>\n",
       "      <td>165.858794</td>\n",
       "    </tr>\n",
       "  </tbody>\n",
       "</table>\n",
       "</div>"
      ],
      "text/plain": [
       "    age  gender      height\n",
       "0    13       1  166.746936\n",
       "1    15       0  168.631229\n",
       "2    18       1  176.332543\n",
       "3    16       1  172.109904\n",
       "4    12       0  165.381427\n",
       "5    16       1  172.416753\n",
       "6    17       0  170.653608\n",
       "7    15       0  168.579097\n",
       "8    18       0  171.587899\n",
       "9    16       1  172.597424\n",
       "10   12       0  165.780334\n",
       "11   17       1  174.983596\n",
       "12   17       1  174.097440\n",
       "13   17       0  170.122181\n",
       "14   14       0  167.103365\n",
       "15   17       0  170.965582\n",
       "16   15       1  170.240983\n",
       "17   13       1  166.968439\n",
       "18   15       0  168.658165\n",
       "19   12       0  165.858794"
      ]
     },
     "execution_count": 8,
     "metadata": {},
     "output_type": "execute_result"
    }
   ],
   "source": [
    "import random\n",
    "\n",
    "n_sample = 20\n",
    "age = [random.randint(12, 18) for _ in range(n_sample)]\n",
    "gender = [random.randint(0, 1) for _ in range(n_sample)]\n",
    "height = [165 - g + (a - 12) * (g + 1) + random.random() for a, g in zip(age, gender)]\n",
    "df = pd.DataFrame({\n",
    "    'age': age,\n",
    "    'gender': gender,\n",
    "    'height': height\n",
    "})\n",
    "df"
   ]
  },
  {
   "cell_type": "code",
   "execution_count": 11,
   "id": "c17a3e99",
   "metadata": {},
   "outputs": [
    {
     "data": {
      "text/html": [
       "<table class=\"simpletable\">\n",
       "<caption>OLS Regression Results</caption>\n",
       "<tr>\n",
       "  <th>Dep. Variable:</th>         <td>height</td>      <th>  R-squared:         </th> <td>   0.922</td>\n",
       "</tr>\n",
       "<tr>\n",
       "  <th>Model:</th>                   <td>OLS</td>       <th>  Adj. R-squared:    </th> <td>   0.913</td>\n",
       "</tr>\n",
       "<tr>\n",
       "  <th>Method:</th>             <td>Least Squares</td>  <th>  F-statistic:       </th> <td>   100.3</td>\n",
       "</tr>\n",
       "<tr>\n",
       "  <th>Date:</th>             <td>Sun, 26 Nov 2023</td> <th>  Prob (F-statistic):</th> <td>3.87e-10</td>\n",
       "</tr>\n",
       "<tr>\n",
       "  <th>Time:</th>                 <td>19:10:24</td>     <th>  Log-Likelihood:    </th> <td> -25.544</td>\n",
       "</tr>\n",
       "<tr>\n",
       "  <th>No. Observations:</th>      <td>    20</td>      <th>  AIC:               </th> <td>   57.09</td>\n",
       "</tr>\n",
       "<tr>\n",
       "  <th>Df Residuals:</th>          <td>    17</td>      <th>  BIC:               </th> <td>   60.07</td>\n",
       "</tr>\n",
       "<tr>\n",
       "  <th>Df Model:</th>              <td>     2</td>      <th>                     </th>     <td> </td>   \n",
       "</tr>\n",
       "<tr>\n",
       "  <th>Covariance Type:</th>      <td>nonrobust</td>    <th>                     </th>     <td> </td>   \n",
       "</tr>\n",
       "</table>\n",
       "<table class=\"simpletable\">\n",
       "<tr>\n",
       "      <td></td>        <th>coef</th>     <th>std err</th>      <th>t</th>      <th>P>|t|</th>  <th>[0.025</th>    <th>0.975]</th>  \n",
       "</tr>\n",
       "<tr>\n",
       "  <th>age</th>      <td>    1.2951</td> <td>    0.110</td> <td>   11.748</td> <td> 0.000</td> <td>    1.062</td> <td>    1.528</td>\n",
       "</tr>\n",
       "<tr>\n",
       "  <th>gender</th>   <td>    2.3678</td> <td>    0.431</td> <td>    5.490</td> <td> 0.000</td> <td>    1.458</td> <td>    3.278</td>\n",
       "</tr>\n",
       "<tr>\n",
       "  <th>constant</th> <td>  149.1755</td> <td>    1.668</td> <td>   89.439</td> <td> 0.000</td> <td>  145.657</td> <td>  152.694</td>\n",
       "</tr>\n",
       "</table>\n",
       "<table class=\"simpletable\">\n",
       "<tr>\n",
       "  <th>Omnibus:</th>       <td> 0.305</td> <th>  Durbin-Watson:     </th> <td>   1.349</td>\n",
       "</tr>\n",
       "<tr>\n",
       "  <th>Prob(Omnibus):</th> <td> 0.858</td> <th>  Jarque-Bera (JB):  </th> <td>   0.468</td>\n",
       "</tr>\n",
       "<tr>\n",
       "  <th>Skew:</th>          <td>-0.028</td> <th>  Prob(JB):          </th> <td>   0.791</td>\n",
       "</tr>\n",
       "<tr>\n",
       "  <th>Kurtosis:</th>      <td> 2.252</td> <th>  Cond. No.          </th> <td>    122.</td>\n",
       "</tr>\n",
       "</table><br/><br/>Notes:<br/>[1] Standard Errors assume that the covariance matrix of the errors is correctly specified."
      ],
      "text/latex": [
       "\\begin{center}\n",
       "\\begin{tabular}{lclc}\n",
       "\\toprule\n",
       "\\textbf{Dep. Variable:}    &      height      & \\textbf{  R-squared:         } &     0.922   \\\\\n",
       "\\textbf{Model:}            &       OLS        & \\textbf{  Adj. R-squared:    } &     0.913   \\\\\n",
       "\\textbf{Method:}           &  Least Squares   & \\textbf{  F-statistic:       } &     100.3   \\\\\n",
       "\\textbf{Date:}             & Sun, 26 Nov 2023 & \\textbf{  Prob (F-statistic):} &  3.87e-10   \\\\\n",
       "\\textbf{Time:}             &     19:10:24     & \\textbf{  Log-Likelihood:    } &   -25.544   \\\\\n",
       "\\textbf{No. Observations:} &          20      & \\textbf{  AIC:               } &     57.09   \\\\\n",
       "\\textbf{Df Residuals:}     &          17      & \\textbf{  BIC:               } &     60.07   \\\\\n",
       "\\textbf{Df Model:}         &           2      & \\textbf{                     } &             \\\\\n",
       "\\textbf{Covariance Type:}  &    nonrobust     & \\textbf{                     } &             \\\\\n",
       "\\bottomrule\n",
       "\\end{tabular}\n",
       "\\begin{tabular}{lcccccc}\n",
       "                  & \\textbf{coef} & \\textbf{std err} & \\textbf{t} & \\textbf{P$> |$t$|$} & \\textbf{[0.025} & \\textbf{0.975]}  \\\\\n",
       "\\midrule\n",
       "\\textbf{age}      &       1.2951  &        0.110     &    11.748  &         0.000        &        1.062    &        1.528     \\\\\n",
       "\\textbf{gender}   &       2.3678  &        0.431     &     5.490  &         0.000        &        1.458    &        3.278     \\\\\n",
       "\\textbf{constant} &     149.1755  &        1.668     &    89.439  &         0.000        &      145.657    &      152.694     \\\\\n",
       "\\bottomrule\n",
       "\\end{tabular}\n",
       "\\begin{tabular}{lclc}\n",
       "\\textbf{Omnibus:}       &  0.305 & \\textbf{  Durbin-Watson:     } &    1.349  \\\\\n",
       "\\textbf{Prob(Omnibus):} &  0.858 & \\textbf{  Jarque-Bera (JB):  } &    0.468  \\\\\n",
       "\\textbf{Skew:}          & -0.028 & \\textbf{  Prob(JB):          } &    0.791  \\\\\n",
       "\\textbf{Kurtosis:}      &  2.252 & \\textbf{  Cond. No.          } &     122.  \\\\\n",
       "\\bottomrule\n",
       "\\end{tabular}\n",
       "%\\caption{OLS Regression Results}\n",
       "\\end{center}\n",
       "\n",
       "Notes: \\newline\n",
       " [1] Standard Errors assume that the covariance matrix of the errors is correctly specified."
      ],
      "text/plain": [
       "<class 'statsmodels.iolib.summary.Summary'>\n",
       "\"\"\"\n",
       "                            OLS Regression Results                            \n",
       "==============================================================================\n",
       "Dep. Variable:                 height   R-squared:                       0.922\n",
       "Model:                            OLS   Adj. R-squared:                  0.913\n",
       "Method:                 Least Squares   F-statistic:                     100.3\n",
       "Date:                Sun, 26 Nov 2023   Prob (F-statistic):           3.87e-10\n",
       "Time:                        19:10:24   Log-Likelihood:                -25.544\n",
       "No. Observations:                  20   AIC:                             57.09\n",
       "Df Residuals:                      17   BIC:                             60.07\n",
       "Df Model:                           2                                         \n",
       "Covariance Type:            nonrobust                                         \n",
       "==============================================================================\n",
       "                 coef    std err          t      P>|t|      [0.025      0.975]\n",
       "------------------------------------------------------------------------------\n",
       "age            1.2951      0.110     11.748      0.000       1.062       1.528\n",
       "gender         2.3678      0.431      5.490      0.000       1.458       3.278\n",
       "constant     149.1755      1.668     89.439      0.000     145.657     152.694\n",
       "==============================================================================\n",
       "Omnibus:                        0.305   Durbin-Watson:                   1.349\n",
       "Prob(Omnibus):                  0.858   Jarque-Bera (JB):                0.468\n",
       "Skew:                          -0.028   Prob(JB):                        0.791\n",
       "Kurtosis:                       2.252   Cond. No.                         122.\n",
       "==============================================================================\n",
       "\n",
       "Notes:\n",
       "[1] Standard Errors assume that the covariance matrix of the errors is correctly specified.\n",
       "\"\"\""
      ]
     },
     "execution_count": 11,
     "metadata": {},
     "output_type": "execute_result"
    }
   ],
   "source": [
    "df['constant'] = 1\n",
    "X = df[['age', 'gender', 'constant']]\n",
    "y = df['height']\n",
    "model = sm.OLS(endog=y, exog=X)\n",
    "result = model.fit()\n",
    "result.summary()"
   ]
  },
  {
   "cell_type": "code",
   "execution_count": 21,
   "id": "210301b8",
   "metadata": {},
   "outputs": [
    {
     "data": {
      "text/plain": [
       "age         1.391776e-09\n",
       "gender      3.980035e-05\n",
       "constant    3.595577e-24\n",
       "dtype: float64"
      ]
     },
     "execution_count": 21,
     "metadata": {},
     "output_type": "execute_result"
    }
   ],
   "source": [
    "result.pvalues"
   ]
  },
  {
   "cell_type": "markdown",
   "id": "1f7d9d7b",
   "metadata": {},
   "source": [
    "$$ \n",
    "y = \\beta * X + \\epsilon \\\\\n",
    "\\hat{\\beta}^{OLS}=\\underset{\\beta}{\\operatorname{argmin}} \\| \\epsilon \\|^2 \\\\\n",
    "\\hat{\\beta} = (X^t * X)^{-1} * X^t * y \n",
    "$$"
   ]
  },
  {
   "cell_type": "code",
   "execution_count": 15,
   "id": "cc258f24",
   "metadata": {},
   "outputs": [
    {
     "data": {
      "text/plain": [
       "array([  1.29506783,   2.36776739, 149.17550539])"
      ]
     },
     "execution_count": 15,
     "metadata": {},
     "output_type": "execute_result"
    }
   ],
   "source": [
    "xt = np.transpose(X)\n",
    "xt_x = xt.dot(X)\n",
    "inverse = np.linalg.inv(xt_x)\n",
    "beta = inverse.dot(xt).dot(y)\n",
    "beta"
   ]
  },
  {
   "cell_type": "markdown",
   "id": "83f5bbf0",
   "metadata": {},
   "source": [
    "$$ Var( \\hat{\\beta})  \\\\\n",
    "= Var((X^t * X)^{-1} * X^t * y)  \\\\\n",
    "= (X^t * X)^{-1} * X^t* Var(y) * ((X^t * X)^{-1} * X^t)^t \\\\\n",
    "= (X^t * X)^{-1} * X^t* \\sigma^2 * ((X^t * X)^{-1} * X^t)^t \\\\\n",
    "= \\sigma^2 *(X^t * X)^{-1} * X^t* X * ((X^t * X)^{-1})^t \\\\\n",
    "= \\sigma^2 * ((X^t * X)^{-1})^t \\\\ \n",
    "= \\sigma^2 * (X * X^t)^{-1}\n",
    "$$"
   ]
  },
  {
   "cell_type": "code",
   "execution_count": 19,
   "id": "139c68e1",
   "metadata": {},
   "outputs": [
    {
     "data": {
      "text/plain": [
       "(0.8860538078358016,\n",
       " array([[ 0.01215286, -0.00920671, -0.18118806],\n",
       "        [-0.00920671,  0.18597555,  0.05671334],\n",
       "        [-0.18118806,  0.05671334,  2.78189961]]))"
      ]
     },
     "execution_count": 19,
     "metadata": {},
     "output_type": "execute_result"
    }
   ],
   "source": [
    "residual = y - X.dot(beta)\n",
    "dof = len(y) - X.shape[1]\n",
    "var = sum(residual ** 2) / df\n",
    "var_beta = var * np.transpose(inverse)\n",
    "var, var_beta"
   ]
  },
  {
   "cell_type": "code",
   "execution_count": 18,
   "id": "1d314d21",
   "metadata": {},
   "outputs": [
    {
     "data": {
      "text/plain": [
       "array([0.11024   , 0.43124883, 1.66790276])"
      ]
     },
     "execution_count": 18,
     "metadata": {},
     "output_type": "execute_result"
    }
   ],
   "source": [
    "std = np.diag(var_beta) ** 0.5\n",
    "std"
   ]
  },
  {
   "cell_type": "code",
   "execution_count": 20,
   "id": "c0085b3b",
   "metadata": {},
   "outputs": [
    {
     "data": {
      "text/plain": [
       "array([1.39177570e-09, 3.98003511e-05, 3.59557718e-24])"
      ]
     },
     "execution_count": 20,
     "metadata": {},
     "output_type": "execute_result"
    }
   ],
   "source": [
    "from scipy import stats\n",
    "stats.t.sf(beta / std, dof) * 2"
   ]
  },
  {
   "cell_type": "code",
   "execution_count": null,
   "id": "0b4c4731",
   "metadata": {},
   "outputs": [],
   "source": []
  }
 ],
 "metadata": {
  "kernelspec": {
   "display_name": "Python 3 (ipykernel)",
   "language": "python",
   "name": "python3"
  },
  "language_info": {
   "codemirror_mode": {
    "name": "ipython",
    "version": 3
   },
   "file_extension": ".py",
   "mimetype": "text/x-python",
   "name": "python",
   "nbconvert_exporter": "python",
   "pygments_lexer": "ipython3",
   "version": "3.9.6"
  }
 },
 "nbformat": 4,
 "nbformat_minor": 5
}
