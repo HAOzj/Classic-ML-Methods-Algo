{
 "cells": [
  {
   "cell_type": "markdown",
   "metadata": {
    "collapsed": true
   },
   "source": [
    "# 朴素贝叶斯\n",
    "\n",
    "朴素贝叶斯方法基于贝叶斯定理,贝叶斯定理是一种对条件概率进行调换求解的方法其表述如下:\n",
    "\n",
    "$$ P(A|B) = \\frac {P(A)P(B|A)}{P(B)} $$\n",
    "\n",
    "事件$ {A} $发生的概率为$ P(A)$,事件$ B $发生的概率为$ P(B) $,事件$ A $发生条件下事件$ B $的概率为$ P(B│A) $，事件$ B $发生条件下事件$ A $发生的概率为$ P(A│B) $.\n",
    "\n",
    "也就是说如果已知了A事件发生的概率和B事件发生的概率,并且知道了A事件发生条件下B事件发生的概率,那么就可以算得B事件发生条件下A事件发生的概率"
   ]
  },
  {
   "cell_type": "markdown",
   "metadata": {},
   "source": [
    "## 一个实际的例子\n",
    "\n",
    "我们以一个实际的例子来看看贝叶斯分类器是什么样的结构"
   ]
  }
 ],
 "metadata": {
  "kernelspec": {
   "display_name": "Python 3",
   "language": "python",
   "name": "python3"
  },
  "language_info": {
   "codemirror_mode": {
    "name": "ipython",
    "version": 3
   },
   "file_extension": ".py",
   "mimetype": "text/x-python",
   "name": "python",
   "nbconvert_exporter": "python",
   "pygments_lexer": "ipython3",
   "version": "3.6.0"
  }
 },
 "nbformat": 4,
 "nbformat_minor": 2
}
