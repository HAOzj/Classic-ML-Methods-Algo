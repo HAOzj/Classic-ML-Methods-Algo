{
 "cells": [
  {
   "cell_type": "markdown",
   "metadata": {},
   "source": [
    "LDA(Latent Dirichlet Allocation)\n",
    "\n",
    "## 历史\n",
    "\n",
    "最早在2003年由[Blei](http://jmlr.csail.mit.edu/papers/v3/blei03a.html)提出,是一种常用的主题模型.\n",
    "\n",
    "## 参数\n",
    "\n",
    "LDA模型有两个参数$ A $和$ B $.\n",
    "1. $ A $作为Dirichlet分布的参数来确定$\\Theta$,\n",
    "2. $ \\Theta $作为多项式分布的参数来确定主题在文本的分布,\n",
    "3. $ B$作为每个词在主题的分布, $ \\beta_{i,j} = P(w_i | t_j) $,其中w表示词,t表示主题"
   ]
  },
  {
   "cell_type": "code",
   "execution_count": null,
   "metadata": {
    "collapsed": true
   },
   "outputs": [],
   "source": []
  }
 ],
 "metadata": {
  "kernelspec": {
   "display_name": "Python 3",
   "language": "python",
   "name": "python3"
  },
  "language_info": {
   "codemirror_mode": {
    "name": "ipython",
    "version": 3
   },
   "file_extension": ".py",
   "mimetype": "text/x-python",
   "name": "python",
   "nbconvert_exporter": "python",
   "pygments_lexer": "ipython3",
   "version": "3.6.0"
  }
 },
 "nbformat": 4,
 "nbformat_minor": 2
}
