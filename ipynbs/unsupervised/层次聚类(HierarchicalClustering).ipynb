{
 "cells": [
  {
   "cell_type": "markdown",
   "metadata": {
    "collapsed": true
   },
   "source": [
    "# 层次聚类\n",
    "\n",
    "这节我们要看的是层次聚类,它的目的就是形成一个层级的聚类情况,从下到上反映了从单点相粘合形成小聚类,小聚类形成大聚类的过程.不像K-means或者高斯混合模型这种划分聚类方法需要事先给一个聚类的数量K,一般它会形成一个树状图,允许我们在各个层次(对应不同数量的聚类)看聚类情况,从而克服了划分聚类方法由固定的K带来的缺点.\n",
    "\n",
    "## 层次聚类分类\n",
    "\n",
    "层次聚类方法按照构建层级的方法分为两种:\n",
    "\n",
    "+ 聚合型 : 从下到上,从每个单点构成的聚类出发,一步步将相近的聚类粘合\n",
    "\n",
    "+ 分裂型 : 从上到下,所有的点都属于一个聚类,慢慢将远的子集分裂出去形成新的聚类\n",
    "\n",
    "\n",
    "## 度量和聚类距离\n",
    "\n",
    "这个时候,我们就要好好定义下距离的\"远\"\"近\"了.我们从点和点之间的[度量](./metric.ipynb)开始,到聚类和聚类之间的距离(linkage criterion).\n",
    "\n",
    "基于点和点之间的度量$d$,我们就可以规定聚类A,B之间的距离.常用的有以下几种：\n",
    "1. 最大距离（Complete-linkage clustering）,$\\max\\{ d(a,b) : a \\in A, b\\in B \\}$\n",
    "\n",
    "2. 最小距离(Single-linkage clustering),$\\min\\{ d(a,b) : a \\in A, b\\in B \\}$\n",
    "\n",
    "3. 平均距离(UPGMA),$ \\frac {1} {n\\times m} \\sum \\limits_ {a \\in A, b\\in B} d(a,b) \\}$,其中$n,m$分别是A,B聚类的基数，也就是包含的点的数量.\n",
    "\n",
    "4. 中点距离(UPGMC),$\\vert d(C_A,C_B)  \\vert$,其中$C_A, C_B$分别是A，B的中点，也就是离中心最近的点\n",
    "\n",
    "5. 能量距离（Energy distance）,$ \\frac {2} {n\\times m} \\sum \\limits_ {a \\in A, b\\in B} \\vert a-b\\vert_2 - \\frac{1}{n^2} \\sum \\limits_{a_i,a_j \\in A} \\vert a_i -a_j \\vert_2 -\\frac{1}{m^2} \\sum \\limits_{b_i,b_j \\in B} \\vert b_i -_j \\vert_2 \\}$\n",
    "\n",
    "## SLINK算法介绍、复杂度\n",
    "\n",
    "至于聚合型聚类的复杂度,不可能小于$ O(n^2) $,因为我们需要计算每对数据点之间的距离.我们介绍一种R.Sibson在1972年提出的[SLINK算法](https://grid.cs.gsu.edu/~wkim/index_files/papers/sibson.pdf),时间复杂度是$ O(n^2) $，空间复杂度是$ O(n) $.\n",
    "\n",
    "我们把n个数据点从0到$ n-1 $编号，SLINK算法求出的是两个数组A和B，A(i)代表把i数据点和起码一个比i序号大的数据点并入一个聚类的层级(表现在树状图上是高度,本质上是聚类之间的距离),而B(i)表示这个层级包含i的聚类中序号最大的点.\n",
    "\n",
    "得到这两个数组后\n",
    "\n",
    "1. 我们可以从A中最小的数 $ a_0 $(可能有多个)开始,对应的点集$ \\{i\\}$ (因为可能多个,所以用集合表示)中的每个点,将它和它的B(i)划分为同一聚类并一直处于一个聚类,没有涉及的点单独成一个聚类;\n",
    "\n",
    "2. 将$ a_0 $从A中去除，找A中剩下的最小的数,对应的点集$ \\{i\\} $中的每个点,将它和它的B(i)划入同一聚类并一直处于一个聚类,没有涉及的聚类(可能是单点聚类)保持不变.\n",
    "\n",
    "3. 重复2步骤,直到把所有点划入一个聚类.\n",
    "\n",
    "\n",
    "## 方法优缺点\n",
    "\n",
    "相比于K-means方法，层次聚类每次运行都会得到相同结果，也可以在任何层次停止，处理的数据类型也更加丰富，比如可以通过设定合适的度量来处理字符串类型，但算法复杂度也会提高."
   ]
  },
  {
   "cell_type": "markdown",
   "metadata": {},
   "source": [
    "## SLINK实现"
   ]
  },
  {
   "cell_type": "code",
   "execution_count": 1,
   "metadata": {},
   "outputs": [],
   "source": [
    "from math import *\n",
    "inf = float('inf')\n",
    "\n",
    "\n",
    "def metrics(a, b, met='euclidean'):\n",
    "    \"\"\"definition of distance between numeric data points\n",
    "    Args:\n",
    "        a,b(array-like)  : - two points to compare\n",
    "        metric(string) : - used metric, \"euclidean\", \"squared\", \"manhattan\" or \"max\"\n",
    "    Returns:\n",
    "        distance(float) : - distance between two numeric points\n",
    "    \"\"\"\n",
    "    try:\n",
    "        if(len(a) != len(b)):\n",
    "            raise ValueError(\"two vectors are not of the same dimension\")\n",
    "            exit()\n",
    "        k = 0\n",
    "        for i in range(len(a)):\n",
    "            if(met == 'euclidean' or 'squared'):\n",
    "                k += (a[i] - b[i])**2\n",
    "            if(met == 'manhattan'):\n",
    "                k += abs(a[i] - b[i])\n",
    "\n",
    "            if(met == 'max'):\n",
    "                k = max(k, abs(a[i] - b[i]))\n",
    "\n",
    "        if(met == 'euclidean'):\n",
    "            k = sqrt(k)\n",
    "        return(k)\n",
    "    except TypeError:\n",
    "        print(\"Not all data points are numeric\")\n",
    "\n",
    "\n",
    "def _SLINK_recur(Dataset, A=None, B=None, dist=metrics, **kws):\n",
    "    \"\"\"recursion of SLINK\n",
    "\n",
    "    Args:\n",
    "        Dataset(iterables) :- dataset\n",
    "        A, B(iterables) :- pointer representations of the dendrogram of the first k elements\n",
    "        dist(func) :- used metric\n",
    "        **kws : - other parameters of metric function\n",
    "    Returns:\n",
    "        List: - pointer representations of dendrogram of the first k+1 elements \n",
    "                with A noting the lowest level at which i is no longer the last point in his cluster and \n",
    "                B storing the last point in the cluster which i then joins\n",
    "    \"\"\"\n",
    "    if(A is None and B is None):\n",
    "        k = 1\n",
    "        A = [inf]\n",
    "        B = [0]\n",
    "    else:\n",
    "        if(len(A) == len(B)):\n",
    "            k = len(A)\n",
    "        else:\n",
    "            print('A and B are not of same dimension')\n",
    "            exit()\n",
    "    n = len(Dataset)\n",
    "    if(k >= n):\n",
    "        return(A, B)\n",
    "    else:\n",
    "        B.append(k)\n",
    "        A.append(inf)\n",
    "        M = [0 for i in range(k)]\n",
    "        for i in range(k):\n",
    "            M[i] = dist(Dataset[i], Dataset[k])\n",
    "\n",
    "        for i in range(k):\n",
    "            if(A[i] >= M[i]):\n",
    "                M[B[i]] = min(M[B[i]], A[i])\n",
    "                A[i] = M[i]\n",
    "                B[i] = k\n",
    "            if(A[i] < M[i]):\n",
    "                M[B[i]] = min(M[B[i]], M[i])\n",
    "        for i in range(k):\n",
    "            if(A[i] >= A[B[i]]):\n",
    "                B[i] = k\n",
    "        return _SLINK_recur(Dataset, A, B)\n",
    "\n",
    "\n",
    "def SLINK(Dataset, d):\n",
    "    \"\"\"function to execute SLINK algo\n",
    "\n",
    "    Args:\n",
    "        Dataset(iterables) : - list of data points, who are also lists\n",
    "        d(int) : - dimension of data points\n",
    "\n",
    "    Returns :\n",
    "        res(iterables) : - list of triples sorted by the second element,\n",
    "                                first element is index of point,\n",
    "                                the other two are pointer representations of dendrograms noting the\n",
    "                                lowest level at which i is no longer the last point in his cluster and\n",
    "                                the last point in the cluster which i then joins\n",
    "        Heights(iterables) : - list of the second element of res' triples\n",
    "    \"\"\"\n",
    "    n = len(Dataset)\n",
    "    A = [inf for i in range(n)]\n",
    "    B = [0 for i in range(n)]\n",
    "\n",
    "    # initialisation\n",
    "    A[0] = inf\n",
    "    B[0] = 0\n",
    "\n",
    "    for k in range(1, n):\n",
    "        B[k] = k\n",
    "        A[k] = inf\n",
    "        M = [0 for i in range(k + 1)]\n",
    "        for i in range(k):\n",
    "            M[i] = metrics(Dataset[i], Dataset[k])\n",
    "        for i in range(k):\n",
    "            if(A[i] >= M[i]):\n",
    "                M[B[i]] = min(M[B[i]], A[i])\n",
    "                A[i] = M[i]\n",
    "                B[i] = k\n",
    "            if(A[i] < M[i]):\n",
    "                M[B[i]] = min(M[B[i]], M[i])\n",
    "        for i in range(k):\n",
    "            if(A[i] >= A[B[i]]):\n",
    "                B[i] = k\n",
    "    res = [(index, i, j) for index, (i, j) in enumerate(zip(A, B))]\n",
    "    res = sorted(res, key=lambda x: x[1])\n",
    "    Heights = [triple[1] for triple in res]\n",
    "    return(res, Heights)\n",
    "\n",
    "\n",
    "def display_from_SLINK(res, Heights):\n",
    "    '''function to display clustering layer by layer\n",
    "\n",
    "    according to the pointer representations of dendrograms\n",
    "\n",
    "    Args:\n",
    "        res(iterables) :- list of triples sorted by the second element,\n",
    "                                    first element is index of point,\n",
    "                                    the other two are pointer representations of dendrograms noting the\n",
    "                                    lowest level at which i is no longer the last point in his cluster and\n",
    "                                    the last point in the cluster which i then joins\n",
    "\n",
    "        Heights(iterables) :- list of the second element of res' triples\n",
    "    '''\n",
    "    num_points = len(Heights)\n",
    "    Clustering = [[i] for i in range(num_points)]\n",
    "    i = 0\n",
    "    j = 0\n",
    "    k = 0\n",
    "    while i < num_points - 1:\n",
    "        # one layer clustering\n",
    "        i = j\n",
    "        k += 1\n",
    "        print(k, 'th 合并')\n",
    "        while j < num_points - 1 and Heights[j] == Heights[i]:\n",
    "            Clustering[res[j][2]] += Clustering[res[j][0]]\n",
    "            print(Clustering[res[j][2]])\n",
    "            j += 1"
   ]
  },
  {
   "cell_type": "code",
   "execution_count": 7,
   "metadata": {},
   "outputs": [],
   "source": [
    "Dataset = [[i**2, i] for i in range(10)]\n",
    "d = 2"
   ]
  },
  {
   "cell_type": "code",
   "execution_count": 13,
   "metadata": {},
   "outputs": [],
   "source": [
    "import random\n",
    "random.shuffle(Dataset)"
   ]
  },
  {
   "cell_type": "code",
   "execution_count": 17,
   "metadata": {},
   "outputs": [
    {
     "name": "stdout",
     "output_type": "stream",
     "text": [
      "0 [81, 9]\n",
      "1 [36, 6]\n",
      "2 [4, 2]\n",
      "3 [49, 7]\n",
      "4 [0, 0]\n",
      "5 [1, 1]\n",
      "6 [64, 8]\n",
      "7 [16, 4]\n",
      "8 [9, 3]\n",
      "9 [25, 5]\n"
     ]
    }
   ],
   "source": [
    "for index, data in enumerate(Dataset):\n",
    "    print(index, data)"
   ]
  },
  {
   "cell_type": "code",
   "execution_count": 15,
   "metadata": {},
   "outputs": [],
   "source": [
    "res, Heights = SLINK(Dataset, d)"
   ]
  },
  {
   "cell_type": "code",
   "execution_count": 16,
   "metadata": {},
   "outputs": [
    {
     "data": {
      "text/plain": [
       "[(4, 1.4142135623730951, 5),\n",
       " (2, 3.1622776601683795, 5),\n",
       " (5, 5.0990195135927845, 8),\n",
       " (7, 7.0710678118654755, 8),\n",
       " (8, 9.055385138137417, 9),\n",
       " (1, 11.045361017187261, 9),\n",
       " (3, 13.038404810405298, 9),\n",
       " (6, 15.033296378372908, 9),\n",
       " (0, 17.029386365926403, 9),\n",
       " (9, inf, 9)]"
      ]
     },
     "execution_count": 16,
     "metadata": {},
     "output_type": "execute_result"
    }
   ],
   "source": [
    "res # [(节点序号, 该节点被首次归入有更大序号的节点的簇时的高度, 当时该节点所在簇中节点的最大序号)]"
   ]
  },
  {
   "cell_type": "code",
   "execution_count": 18,
   "metadata": {},
   "outputs": [
    {
     "data": {
      "text/plain": [
       "[1.4142135623730951,\n",
       " 3.1622776601683795,\n",
       " 5.0990195135927845,\n",
       " 7.0710678118654755,\n",
       " 9.055385138137417,\n",
       " 11.045361017187261,\n",
       " 13.038404810405298,\n",
       " 15.033296378372908,\n",
       " 17.029386365926403,\n",
       " inf]"
      ]
     },
     "execution_count": 18,
     "metadata": {},
     "output_type": "execute_result"
    }
   ],
   "source": [
    "Heights"
   ]
  },
  {
   "cell_type": "code",
   "execution_count": 19,
   "metadata": {},
   "outputs": [
    {
     "name": "stdout",
     "output_type": "stream",
     "text": [
      "1 th 合并\n",
      "[5, 4]\n",
      "2 th 合并\n",
      "[5, 4, 2]\n",
      "3 th 合并\n",
      "[8, 5, 4, 2]\n",
      "4 th 合并\n",
      "[8, 5, 4, 2, 7]\n",
      "5 th 合并\n",
      "[9, 8, 5, 4, 2, 7]\n",
      "6 th 合并\n",
      "[9, 8, 5, 4, 2, 7, 1]\n",
      "7 th 合并\n",
      "[9, 8, 5, 4, 2, 7, 1, 3]\n",
      "8 th 合并\n",
      "[9, 8, 5, 4, 2, 7, 1, 3, 6]\n",
      "9 th 合并\n",
      "[9, 8, 5, 4, 2, 7, 1, 3, 6, 0]\n",
      "10 th 合并\n"
     ]
    }
   ],
   "source": [
    "display_from_SLINK(res, Heights)"
   ]
  },
  {
   "cell_type": "markdown",
   "metadata": {
    "collapsed": true
   },
   "source": [
    "## ***使用sklearn中的接口实现层次聚类***\n",
    "\n",
    "sklearn中有接口`sklearn.cluster.AgglomerativeClustering`可以实现一种叫做`凝聚层次聚类`的层次聚类算法.它通过递归地聚合样本实现层次聚类\n",
    "\n",
    "详细请参考[sklearn聚类的文档](https://scikit-learn.org/stable/modules/classes.html#module-sklearn.cluster)."
   ]
  }
 ],
 "metadata": {
  "kernelspec": {
   "display_name": "Python 3",
   "language": "python",
   "name": "python3"
  },
  "language_info": {
   "codemirror_mode": {
    "name": "ipython",
    "version": 3
   },
   "file_extension": ".py",
   "mimetype": "text/x-python",
   "name": "python",
   "nbconvert_exporter": "python",
   "pygments_lexer": "ipython3",
   "version": "3.7.3"
  }
 },
 "nbformat": 4,
 "nbformat_minor": 2
}
