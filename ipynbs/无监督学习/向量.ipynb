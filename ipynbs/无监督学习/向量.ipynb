{
 "cells": [
  {
   "cell_type": "markdown",
   "metadata": {},
   "source": [
    "# 向量\n",
    "\n",
    "## 什么是向量?\n",
    "\n",
    "向量这个概念似乎常会被用到但又好像常常代表不同的意思,我们初中上力学的时候常常用向量表示力,比如:\n",
    "\n",
    "![](source/img/受力分析.jpeg)"
   ]
  },
  {
   "cell_type": "markdown",
   "metadata": {},
   "source": [
    "这是在bing百科里面找来的一张典型的受力分析图,其中的所有力都是用向量表示的,向量的起点是受力点,(箭头)方向是力的方向,而长度往往代表力的大小.\n",
    "于是我们可以这么归纳:\n",
    "\n",
    "向量是指的**一条有长度有方向的线段,用来标识一些有方向的量**.\n",
    "\n",
    "这种定义对么?当然对了要不老师也不会这么教我们.\n",
    "\n",
    "再来看另一种情况,学过计算机(c++)的小朋友一定知道有一种数据结构叫向量,他是啥呢,\n",
    "**它是一种顺序表,用来存放数据**,比如下图(图片来自网络):\n",
    "\n",
    "![](source/img/学习成绩.jpeg)\n",
    "\n"
   ]
  },
  {
   "cell_type": "markdown",
   "metadata": {},
   "source": [
    "这是一张学习成绩表,他从多个维度给出了每个学生的属性值,那么我们说每个学生就是一个向量,我们不能把一个人的语文成绩和数学成绩互换,也就是假数据了,\n",
    "\n",
    "可以这么归纳:\n",
    "\n",
    "向量是指的**一种有序定长的数据结构**\n",
    "\n",
    "这种定义对么,当然也对,其实仔细想想这两种说法好像其实是一回事,第一种说法是一种几何形象的描述,第二种是存储形式的描述,高度概括的线性代数要把向量定义为:\n",
    "\n",
    "**向量是可以保证两个向量相加或者与一个标量相乘有意义的概念,**它可以是任何事物,只要满足可以相加并且可以与标量相乘即可.另一种描述是**向量是向量空间的元素**,其实后一种说法才是更加符合向量定义的说法,因为加法,数乘也不过是一种函数而已,广义上来说运算也是可以自己重新定义的,只要自己定义的两种函数可以满足的这种事物的意义,就算是向量(自洽).\n",
    "![](source/img/自洽.png),数学追求最高抽象和完美,自洽算是一种数学美的体现\n",
    "\n",
    "向量空间会在后面的部分讲到."
   ]
  },
  {
   "cell_type": "markdown",
   "metadata": {},
   "source": [
    "为了好研究向量,我们常用几何思维和直角坐标系,来理解向量和他的一些运算,也就是第一种向量定义的方式,不过一般我们会规定向量的起点都是原点(向量元素全是0的点),理解向量运算的最简单方法就是爬格子."
   ]
  },
  {
   "cell_type": "markdown",
   "metadata": {},
   "source": [
    "**具体到对于数据科学**而言,向量通常是作为从多个维度描述事物的一个工具.正如上面评比的表格,我们就常将其抽象为一组向量,其中一个人(一行)就可以用一个向量来表示.\n",
    "\n",
    "虽然上面各种定义似乎都不一样,但并不妨碍我们使用向量作为工具研究数据."
   ]
  },
  {
   "cell_type": "markdown",
   "metadata": {},
   "source": [
    "### 向量的表示形式\n",
    "\n",
    "向量一般有两种写法:\n",
    "\n",
    "+ 横置\n",
    "\n",
    "$(0,1)$\n",
    "\n",
    "+ 纵置\n",
    "\n",
    "$\\begin{bmatrix} 0  \\\\ 1  \\end{bmatrix}$\n",
    "\n",
    "这两种写法都对,第一种在数学上比较常见,而第二种在线代中比较常见,我们也以第二种作为表述方式\n",
    "\n",
    "我们用numpy来画个二维向量"
   ]
  },
  {
   "cell_type": "code",
   "execution_count": 2,
   "metadata": {
    "collapsed": true
   },
   "outputs": [],
   "source": [
    "import matplotlib.pyplot as plt\n",
    "import pylab"
   ]
  },
  {
   "cell_type": "code",
   "execution_count": 3,
   "metadata": {
    "collapsed": true
   },
   "outputs": [],
   "source": [
    "%matplotlib inline"
   ]
  },
  {
   "cell_type": "code",
   "execution_count": 4,
   "metadata": {
    "collapsed": true
   },
   "outputs": [],
   "source": [
    "import numpy as np"
   ]
  },
  {
   "cell_type": "code",
   "execution_count": 5,
   "metadata": {},
   "outputs": [],
   "source": [
    "A = np.array([[3,4]])"
   ]
  },
  {
   "cell_type": "code",
   "execution_count": 6,
   "metadata": {},
   "outputs": [
    {
     "data": {
      "text/plain": [
       "(1, 2)"
      ]
     },
     "execution_count": 6,
     "metadata": {},
     "output_type": "execute_result"
    }
   ],
   "source": [
    "A.shape"
   ]
  },
  {
   "cell_type": "code",
   "execution_count": 7,
   "metadata": {
    "collapsed": true
   },
   "outputs": [],
   "source": [
    "B = np.array([[2,-3]])"
   ]
  },
  {
   "cell_type": "code",
   "execution_count": 8,
   "metadata": {},
   "outputs": [],
   "source": [
    "C = A+B"
   ]
  },
  {
   "cell_type": "code",
   "execution_count": 9,
   "metadata": {},
   "outputs": [
    {
     "data": {
      "text/plain": [
       "array([[5, 1]])"
      ]
     },
     "execution_count": 9,
     "metadata": {},
     "output_type": "execute_result"
    }
   ],
   "source": [
    "C"
   ]
  },
  {
   "cell_type": "code",
   "execution_count": 10,
   "metadata": {},
   "outputs": [
    {
     "data": {
      "image/png": "[encoded data removed]",
      "text/plain": [
       "<matplotlib.figure.Figure at 0x1081b1bd0>"
      ]
     },
     "metadata": {},
     "output_type": "display_data"
    }
   ],
   "source": [
    "axi = plt.axis([-5,10,-5,10])\n",
    "ax = plt.gca()\n",
    "ax.spines['right'].set_color('none')#右脊柱设为无色\n",
    "ax.spines['top'].set_color('none')#上脊柱设为无色\n",
    "ax.xaxis.set_ticks_position('bottom')#下脊柱设定位置\n",
    "ax.spines['bottom'].set_position(('data',0))\n",
    "ax.yaxis.set_ticks_position('left')#左脊柱设定位置\n",
    "ax.spines['left'].set_position(('data',0))\n",
    "axe = plt.axes()\n",
    "axe.arrow(0, 0, A[0][0], A[0][1],head_width=0.2, head_length=0.5, fc='g', ec='g')\n",
    "axe.arrow(0, 0, B[0][0], B[0][1],head_width=0.2, head_length=0.5, fc='k', ec='k')\n",
    "plt.show()"
   ]
  },
  {
   "cell_type": "markdown",
   "metadata": {},
   "source": [
    "## 加法和数乘的意义\n",
    "\n",
    "### 加法\n",
    "\n",
    "实际上向量加法可以理解为平移第二个向量到第一个向量终点都整体起点到终点相连形成的向量"
   ]
  },
  {
   "cell_type": "code",
   "execution_count": 11,
   "metadata": {},
   "outputs": [
    {
     "data": {
      "image/png": "[encoded data removed]",
      "text/plain": [
       "<matplotlib.figure.Figure at 0x1082b6450>"
      ]
     },
     "metadata": {},
     "output_type": "display_data"
    }
   ],
   "source": [
    "axi = plt.axis([-5,10,-5,10])\n",
    "ax = plt.gca()\n",
    "ax.spines['right'].set_color('none')#右脊柱设为无色\n",
    "ax.spines['top'].set_color('none')#上脊柱设为无色\n",
    "ax.xaxis.set_ticks_position('bottom')#下脊柱设定位置\n",
    "ax.spines['bottom'].set_position(('data',0))\n",
    "ax.yaxis.set_ticks_position('left')#左脊柱设定位置\n",
    "ax.spines['left'].set_position(('data',0))\n",
    "axe = plt.axes()\n",
    "axe.arrow(0, 0, A[0][0], A[0][1],head_width=0.2, head_length=0.5, fc='g', ec='g')\n",
    "axe.arrow(A[0][0], A[0][1],B[0][0],B[0][1],head_width=0.2, head_length=0.5, fc='k', ec='k')\n",
    "axe.arrow(0, 0, C[0][0], C[0][1],head_width=0.2, head_length=0.5, fc='r', ec='r')\n",
    "plt.show()"
   ]
  },
  {
   "cell_type": "markdown",
   "metadata": {},
   "source": [
    "这可以理解为无论用什么路线行进,最终结果C和A+B所到达的坐标系中的位置是一样的"
   ]
  },
  {
   "cell_type": "markdown",
   "metadata": {},
   "source": [
    "**计算公式如下**:\n",
    "\n",
    "$\\begin{bmatrix} x_0\\\\ x_1 \\\\...  \\end{bmatrix} + \\begin{bmatrix} y_0\\\\ y_1 \\\\...  \\end{bmatrix} = \\begin{bmatrix} x_0+y_0\\\\ x_1+y_1 \\\\ ...  \\end{bmatrix}$"
   ]
  },
  {
   "cell_type": "markdown",
   "metadata": {},
   "source": [
    "### 数乘"
   ]
  },
  {
   "cell_type": "markdown",
   "metadata": {},
   "source": [
    "数乘可以理解为伸缩(scaling)向量的长度而方向不变"
   ]
  },
  {
   "cell_type": "code",
   "execution_count": 12,
   "metadata": {
    "collapsed": true
   },
   "outputs": [],
   "source": [
    "D = 2*C"
   ]
  },
  {
   "cell_type": "code",
   "execution_count": 13,
   "metadata": {},
   "outputs": [
    {
     "data": {
      "text/plain": [
       "array([[10,  2]])"
      ]
     },
     "execution_count": 13,
     "metadata": {},
     "output_type": "execute_result"
    }
   ],
   "source": [
    "D"
   ]
  },
  {
   "cell_type": "code",
   "execution_count": 14,
   "metadata": {},
   "outputs": [
    {
     "data": {
      "image/png": "[encoded data removed]",
      "text/plain": [
       "<matplotlib.figure.Figure at 0x1085bfc10>"
      ]
     },
     "metadata": {},
     "output_type": "display_data"
    }
   ],
   "source": [
    "axi = plt.axis([-5,15,-5,15])\n",
    "ax = plt.gca()\n",
    "ax.spines['right'].set_color('none')#右脊柱设为无色\n",
    "ax.spines['top'].set_color('none')#上脊柱设为无色\n",
    "ax.xaxis.set_ticks_position('bottom')#下脊柱设定位置\n",
    "ax.spines['bottom'].set_position(('data',0))\n",
    "ax.yaxis.set_ticks_position('left')#左脊柱设定位置\n",
    "ax.spines['left'].set_position(('data',0))\n",
    "axe = plt.axes()\n",
    "axe.arrow(0, 0, C[0][0], C[0][1],head_width=0.2, head_length=0.5, fc='r', ec='r')\n",
    "axe.arrow(0, 0, D[0][0], D[0][1],head_width=0.2, head_length=0.5, fc='g', ec='g')\n",
    "\n",
    "plt.show()"
   ]
  },
  {
   "cell_type": "markdown",
   "metadata": {},
   "source": [
    "**计算公式如下**:\n",
    "\n",
    "$C*\\begin{bmatrix}x_0\\\\ x_1 \\\\...  \\end{bmatrix} = \\begin{bmatrix} C*x_0\\\\ C*x_1 \\\\ ...  \\end{bmatrix}$"
   ]
  },
  {
   "cell_type": "markdown",
   "metadata": {},
   "source": [
    "## 向量的模\n",
    "\n",
    "向量是一个矢量,它有他的长度,这个长度就是所谓的模\n",
    "\n",
    "我们常用$\\sqrt{\\sum_{i=0}^n x_i^2}$ 来计算向量的模"
   ]
  },
  {
   "cell_type": "markdown",
   "metadata": {},
   "source": [
    "## 向量乘法\n",
    "\n",
    "向量与向量之间我们也定义了几种乘法操作,他们的定义和意义我们在线性变换和矩阵之后再详细讨论\n",
    "\n",
    "+ ### 点乘\n",
    "\n",
    "我们定义点乘结果是,它将两个向量转化为一个标量\n",
    "\n",
    "$[x_0,x_1,x_2,x_3...,x_n] * [y_0,y_1,y_2,y_3...,y_n] = \\sum_{i=0}^n (x_i*y_i)$\n"
   ]
  },
  {
   "cell_type": "markdown",
   "metadata": {},
   "source": [
    "+ ### 叉乘(cross product)\n",
    "\n",
    "叉乘是向量在2维和3维时特殊的计算操作,在高纬度并没有叉乘\n",
    "我们定义叉乘结果是,它将两个向量转化为垂直于他们并满足右手定则的向量(二维可以看做是第3维都是0的两个三维向量)\n",
    "\n",
    "$(x_0,x_1,x_2) \\times (y_0,y_1,y_2) = \\begin{bmatrix} x_1*y_2-x_2*y_1\\\\x_2*y_0-x_0*y_2 \\\\x_0*y_1-x_1*y_0\\end{bmatrix}$"
   ]
  },
  {
   "cell_type": "markdown",
   "metadata": {},
   "source": [
    "# 向量间的距离\n",
    "\n",
    "在同一个向量空间中,我们如何比较两个向量呢?"
   ]
  },
  {
   "cell_type": "code",
   "execution_count": 16,
   "metadata": {},
   "outputs": [
    {
     "data": {
      "image/png": "[encoded data removed]",
      "text/plain": [
       "<matplotlib.figure.Figure at 0x1087a5250>"
      ]
     },
     "metadata": {},
     "output_type": "display_data"
    }
   ],
   "source": [
    "axi = plt.axis([-5,10,-5,10])\n",
    "ax = plt.gca()\n",
    "ax.spines['right'].set_color('none')#右脊柱设为无色\n",
    "ax.spines['top'].set_color('none')#上脊柱设为无色\n",
    "ax.xaxis.set_ticks_position('bottom')#下脊柱设定位置\n",
    "ax.spines['bottom'].set_position(('data',0))\n",
    "ax.yaxis.set_ticks_position('left')#左脊柱设定位置\n",
    "ax.spines['left'].set_position(('data',0))\n",
    "axe = plt.axes()\n",
    "axe.arrow(0, 0, A[0][0], A[0][1],head_width=0.2, head_length=0.5, fc='g', ec='g')\n",
    "axe.arrow(0, 0, B[0][0], B[0][1],head_width=0.2, head_length=0.5, fc='k', ec='k')\n",
    "plt.show()"
   ]
  },
  {
   "cell_type": "markdown",
   "metadata": {},
   "source": [
    "## 二元取值向量的相似度\n",
    "\n",
    "二元取值向量是指向量内元素的值只有0或者1的情况,这种常常用在自然语言处理中处理词向量,或者多选题中做结果分析.\n",
    "\n",
    "比如一个多选题:\n",
    "\n",
    "**例: 你喜欢的水果有:**\n",
    "1. 苹果\n",
    "2. 梨\n",
    "3. 桃子\n",
    "4. 葡萄\n",
    "5. 草莓\n",
    "\n",
    "处理这种问题,我们常将每条结果表示为一条向量:比如一个人选了苹果和草莓,那么他的向量为\n",
    "\n",
    "苹果|梨|桃子|葡萄|草莓\n",
    "---|---|---|---|---\n",
    "1|0|0|0|1\n",
    "\n",
    "也就是\n",
    "\n",
    "`(1,0,0,0,1)`\n",
    "\n",
    "\n",
    "这种向量的相似度可以这样:\n",
    "\n",
    "+ ### 余弦距离(Cosine Similarity)\n",
    "\n",
    "我们可以只要关注向量间的夹角,也就是通过向量点积和向量模积的比值求出向量夹角的余弦\n",
    "\n",
    "$ s = \\frac {v1\\dot v2}{\\mod(v1) * \\mod(v2)}$\n",
    "\n",
    "\n",
    "**余弦相似度衡量的是维度间相对层面的差异**它往往关注的是维度是否被用到,而对用了多少并不敏感"
   ]
  },
  {
   "cell_type": "markdown",
   "metadata": {
    "collapsed": true
   },
   "source": [
    "+ ### 汉明距离(Hammingdistance)\n",
    "\n",
    "另一种常用的而元取值向量间的相似度度量是汉明距离(Hammingdistance),其定义为:两个等长向量将其中一个变为另外一个所需要作的最小替换次数。\n",
    "\n",
    "例如`(1111)`与`(1001)`之间的汉明距离为2。\n",
    "\n",
    "汉明距离常用于信息编码(为了增强容错性，应使得编码间的最小汉明距离尽可能大).\n",
    "\n",
    "\n",
    "\n"
   ]
  },
  {
   "cell_type": "markdown",
   "metadata": {},
   "source": [
    "当我们的向量元素值是连续值或者多元取值时,明显的这种相似度度量将失效(线性相关的两个向量)\n",
    "\n",
    "这时我们怎么计算相似度呢?\n",
    "\n",
    "## 闵可夫斯基距离(MinkowskiDistance)\n",
    "\n",
    "闵氏距离不是一种距离，而是一组距离的定义。\n",
    "\n",
    "$d = \\sqrt[p] {\\sum_{i=0}^n{|x_i-y_i|^p}}$\n",
    "\n",
    "根据变参数p的不同，闵氏距离可以表示一类的距离。\n",
    "\n",
    "### 闵氏距离的特点:\n",
    "\n",
    "闵氏距离是由向量自身位置所决定的,它最大的好处是与样本无关,因此两个向量无论他们在哪个样本中,相互距离是一定的.这样就不会受到样本干扰\n",
    "\n",
    "### 闵氏距离的缺点:\n",
    "\n",
    "闵氏距离的缺点主要有两个:\n",
    "\n",
    " + 将各个分量的量纲(scale)，也就是“单位”当作相同的看待了。举个例子,一个人一次考试的成绩<语文分数,政治分数>,单位都是1分,但明显的这俩分数的价值是不同的.\n",
    " + 没有考虑各个分量的分布（期望，方差等)可能是不同的。\n"
   ]
  },
  {
   "cell_type": "markdown",
   "metadata": {},
   "source": [
    "+ ### 欧式距离(Euclidean Distance)\n",
    "\n",
    "我们一般不把向量作为线段了,而是用它的终点来表达它,这样两点离得越近自然就越是相似了,于是有了另一种常用的相似度量--**欧几里得距离**\n",
    "\n",
    "![欧氏距离](source/img/欧式距离.png)\n",
    "\n",
    "$ d=\\sqrt {\\sum_{i=0}^n(x_i-y_i)^2}  $\n",
    "\n",
    "它是p=2时的闵可夫斯基距离"
   ]
  },
  {
   "cell_type": "markdown",
   "metadata": {},
   "source": [
    "+ ### 曼哈顿距离(ManhattanDistance)\n",
    "\n",
    "同样是用于计算距离,另一种计量方式是像我们去某个地方一样计算行进距离而不是直线距离,这就是曼哈顿距离了,他的计算方式是这样:\n",
    "\n",
    "![曼哈顿距离](source/img/曼哈顿距离.png)\n",
    "\n",
    "\n",
    "\n",
    "$ d =  \\sum_{i=1}^n |{x_i-y_i}|$\n",
    "\n",
    "它是p=1时的闵可夫斯基距离"
   ]
  },
  {
   "cell_type": "markdown",
   "metadata": {},
   "source": [
    "+ ### 切比雪夫距离 ( Chebyshev Distance )\n",
    "\n",
    "在扩展一步,曼哈顿距离只能横走竖走,我们加上斜走,就像象棋里面将帅的走法一样,这种距离算法就是切比雪夫距离算法:\n",
    "\n",
    "![切比雪夫距离](source/img/切比雪夫距离.png)\n",
    "\n",
    "\n",
    "$ d = max(|x_i-y_i|)$\n",
    "\n",
    "它是p=inf时的闵可夫斯基距离"
   ]
  },
  {
   "cell_type": "markdown",
   "metadata": {},
   "source": [
    "### 补充:一种将距离转化为相似度的算法\n",
    "\n",
    "由于欧式距离是一个在`[0,inf)`范围的取值,而且是越相近就越小,这与相似度这一概念似乎不太一样.一般相似度要求是在`(0,1]`区间内(包不包括0似乎有待讨论),并且越相似数值越大.如何将欧式距离转化为相似度呢?\n",
    "\n",
    "我们通过这样的转换来实现:\n",
    "\n",
    "$s = \\frac {1}{1+d}$"
   ]
  }
 ],
 "metadata": {
  "kernelspec": {
   "display_name": "Python 2",
   "language": "python",
   "name": "python2"
  },
  "language_info": {
   "codemirror_mode": {
    "name": "ipython",
    "version": 2
   },
   "file_extension": ".py",
   "mimetype": "text/x-python",
   "name": "python",
   "nbconvert_exporter": "python",
   "pygments_lexer": "ipython2",
   "version": "2.7.13"
  }
 },
 "nbformat": 4,
 "nbformat_minor": 1
}
